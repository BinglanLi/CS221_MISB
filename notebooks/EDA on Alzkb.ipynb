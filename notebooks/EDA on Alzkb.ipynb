{
 "cells": [
  {
   "cell_type": "code",
   "execution_count": 0,
   "metadata": {
    "application/vnd.databricks.v1+cell": {
     "cellMetadata": {
      "byteLimit": 2048000,
      "rowLimit": 10000
     },
     "inputWidgets": {},
     "nuid": "0e9d4516-2147-4f46-870c-38fa17decce0",
     "showTitle": false,
     "tableResultSettingsMap": {},
     "title": ""
    }
   },
   "outputs": [
    {
     "output_type": "stream",
     "name": "stdout",
     "output_type": "stream",
     "text": [
      "2.6.0+cu124\n"
     ]
    }
   ],
   "source": [
    "import torch\n",
    "from torch import Tensor\n",
    "print(torch.__version__)"
   ]
  },
  {
   "cell_type": "code",
   "execution_count": 0,
   "metadata": {
    "application/vnd.databricks.v1+cell": {
     "cellMetadata": {
      "byteLimit": 2048000,
      "rowLimit": 10000
     },
     "inputWidgets": {},
     "nuid": "2dec9309-48e0-4cca-81d9-bad4a849356f",
     "showTitle": false,
     "tableResultSettingsMap": {},
     "title": ""
    }
   },
   "outputs": [],
   "source": [
    "\n",
    "# Install required packages.\n",
    "import os\n",
    "os.environ['TORCH'] = torch.__version__"
   ]
  },
  {
   "cell_type": "code",
   "execution_count": 0,
   "metadata": {
    "application/vnd.databricks.v1+cell": {
     "cellMetadata": {
      "byteLimit": 2048000,
      "rowLimit": 10000
     },
     "inputWidgets": {},
     "nuid": "14771256-d7eb-4047-bdf7-17be47fb6096",
     "showTitle": false,
     "tableResultSettingsMap": {},
     "title": ""
    }
   },
   "outputs": [],
   "source": [
    "#Connect to the Graph Database\n",
    "import pandas as pd\n",
    "import numpy as np\n",
    "from collections import defaultdict\n",
    "from gqlalchemy import Memgraph\n",
    "\n",
    "# Make a connection to the database\n",
    "memgraph = Memgraph(host='alzkb.ai', port=7687)"
   ]
  },
  {
   "cell_type": "markdown",
   "metadata": {
    "application/vnd.databricks.v1+cell": {
     "cellMetadata": {},
     "inputWidgets": {},
     "nuid": "eebbc7fa-3e71-4a6f-81f2-3e7a09111760",
     "showTitle": false,
     "tableResultSettingsMap": {},
     "title": ""
    }
   },
   "source": [
    "# Exploratory Data Analysis Summary\n",
    "\n",
    "**1. Node‐Type Distribution**\n",
    "\n",
    "> **Remark:**  \n",
    "> - The graph is heavily “gene‐centric.”  \n",
    "> - Only 34 disease nodes versus nearly 200 K gene nodes.  \n",
    "> - Drugs (16 K) and biological processes (12 K) are the next largest categories.  \n",
    "> - Diseases and drug‐classes appear very sparsely.\n",
    "\n",
    "---\n",
    "\n",
    "**2. Relationship‐Type Breakdown**\n",
    "\n",
    "- **Total edges (all relation types)**: 1 668 487  \n",
    "- **Drug→Disease edges** (`DRUGTREATSDISEASE` + `DRUGCAUSESEFFECT`): only 11  \n",
    "\n",
    "> **Remark:**  \n",
    "> - Nearly all edges involve Gene→(something) or Gene‐related relations.  \n",
    "> - Only 9 “DRUGTREATSDISEASE” + 2 “DRUGCAUSESEFFECT” links exist, highlighting an extreme class imbalance for any Drug→Disease link‐prediction task."
   ]
  },
  {
   "cell_type": "code",
   "execution_count": 0,
   "metadata": {
    "application/vnd.databricks.v1+cell": {
     "cellMetadata": {
      "byteLimit": 2048000,
      "rowLimit": 10000
     },
     "inputWidgets": {},
     "nuid": "3de8874e-b5ed-4cd9-9ee9-12b1e77a2b77",
     "showTitle": false,
     "tableResultSettingsMap": {},
     "title": ""
    }
   },
   "outputs": [
    {
     "output_type": "stream",
     "name": "stdout",
     "output_type": "stream",
     "text": [
      "Node labels: ['Drug', 'Gene', 'BiologicalProcess', 'Pathway', 'MolecularFunction', 'CellularComponent', 'Symptom', 'BodyPart', 'DrugClass', 'Disease', 'TranscriptionFactor']\n"
     ]
    }
   ],
   "source": [
    "labels = memgraph.execute_and_fetch(\n",
    "    \"MATCH (n) UNWIND labels(n) AS lab RETURN DISTINCT lab\"\n",
    ")\n",
    "nodes = [row[\"lab\"] for row in labels]\n",
    "print(\"Node labels:\", nodes)\n"
   ]
  },
  {
   "cell_type": "code",
   "execution_count": 0,
   "metadata": {
    "application/vnd.databricks.v1+cell": {
     "cellMetadata": {
      "byteLimit": 2048000,
      "rowLimit": 10000
     },
     "inputWidgets": {},
     "nuid": "f71b5c35-8f2e-4355-8e71-bf022fb651a4",
     "showTitle": false,
     "tableResultSettingsMap": {},
     "title": ""
    }
   },
   "outputs": [
    {
     "output_type": "stream",
     "name": "stdout",
     "output_type": "stream",
     "text": [
      "                    lab     cnt\n0                  Gene  193279\n1                  Drug   16581\n2     BiologicalProcess   12322\n3               Pathway    4516\n4     MolecularFunction    3460\n5     CellularComponent    1695\n6              BodyPart     652\n7   TranscriptionFactor     519\n8               Symptom     505\n9             DrugClass     474\n10              Disease      34\n"
     ]
    }
   ],
   "source": [
    "# 1.2 Count nodes per label\n",
    "counts = memgraph.execute_and_fetch(\n",
    "    \"MATCH (n) UNWIND labels(n) AS lab \"\n",
    "    \"RETURN lab, count(*) AS cnt ORDER BY cnt DESC\"\n",
    ")\n",
    "df_counts = pd.DataFrame(counts)\n",
    "print(df_counts)\n"
   ]
  },
  {
   "cell_type": "code",
   "execution_count": 0,
   "metadata": {
    "application/vnd.databricks.v1+cell": {
     "cellMetadata": {
      "byteLimit": 2048000,
      "rowLimit": 10000
     },
     "inputWidgets": {},
     "nuid": "e8d3a456-6636-4738-bcfe-bb26c27d82be",
     "showTitle": false,
     "tableResultSettingsMap": {},
     "title": ""
    }
   },
   "outputs": [
    {
     "output_type": "stream",
     "name": "stdout",
     "output_type": "stream",
     "text": [
      "Rel types: ['TRANSCRIPTIONFACTORINTERACTSWITHGENE', 'BODYPARTOVEREXPRESSESGENE', 'BODYPARTUNDEREXPRESSESGENE', 'CHEMICALBINDSGENE', 'CHEMICALINCREASESEXPRESSION', 'CHEMICALDECREASESEXPRESSION', 'GENEREGULATESGENE', 'GENEINTERACTSWITHGENE', 'GENECOVARIESWITHGENE', 'GENEPARTICIPATESINBIOLOGICALPROCESS', 'GENEINPATHWAY', 'GENEHASMOLECULARFUNCTION', 'GENEASSOCIATEDWITHCELLULARCOMPONENT', 'DISEASELOCALIZESTOANATOMY', 'DRUGINCLASS', 'GENEASSOCIATESWITHDISEASE', 'DRUGTREATSDISEASE', 'DRUGCAUSESEFFECT', 'SYMPTOMMANIFESTATIONOFDISEASE']\n"
     ]
    }
   ],
   "source": [
    "# 1.3 List all relationship types\n",
    "rels = memgraph.execute_and_fetch(\n",
    "    \"MATCH ()-[r]->() RETURN DISTINCT type(r) AS rel\"\n",
    ")\n",
    "print(\"Rel types:\", [row[\"rel\"] for row in rels])"
   ]
  },
  {
   "cell_type": "code",
   "execution_count": 0,
   "metadata": {
    "application/vnd.databricks.v1+cell": {
     "cellMetadata": {
      "byteLimit": 2048000,
      "rowLimit": 10000
     },
     "inputWidgets": {},
     "nuid": "426427d4-c236-4397-9f18-41660498c0ae",
     "showTitle": false,
     "tableResultSettingsMap": {},
     "title": ""
    }
   },
   "outputs": [
    {
     "output_type": "stream",
     "name": "stdout",
     "output_type": "stream",
     "text": [
      "                                     rel     cnt\n0    GENEPARTICIPATESINBIOLOGICALPROCESS  548285\n1                      GENEREGULATESGENE  263978\n2                          GENEINPATHWAY  178991\n3                  GENEINTERACTSWITHGENE  147088\n4               GENEHASMOLECULARFUNCTION  104752\n5             BODYPARTUNDEREXPRESSESGENE  102185\n6              BODYPARTOVEREXPRESSESGENE   97772\n7    GENEASSOCIATEDWITHCELLULARCOMPONENT   88880\n8                   GENECOVARIESWITHGENE   61606\n9                      CHEMICALBINDSGENE   25726\n10           CHEMICALDECREASESEXPRESSION   21051\n11           CHEMICALINCREASESEXPRESSION   18713\n12  TRANSCRIPTIONFACTORINTERACTSWITHGENE    6910\n13                           DRUGINCLASS    1945\n14             GENEASSOCIATESWITHDISEASE     508\n15         SYMPTOMMANIFESTATIONOFDISEASE      53\n16             DISEASELOCALIZESTOANATOMY      33\n17                     DRUGTREATSDISEASE       9\n18                      DRUGCAUSESEFFECT       2\n"
     ]
    }
   ],
   "source": [
    "# 1.4 Count relationships per type\n",
    "rel_counts = memgraph.execute_and_fetch(\n",
    "    \"MATCH ()-[r]->() RETURN type(r) AS rel, count(*) AS cnt \"\n",
    "    \"ORDER BY cnt DESC\"\n",
    ")\n",
    "df_rel_counts = pd.DataFrame(rel_counts)\n",
    "print(df_rel_counts)"
   ]
  },
  {
   "cell_type": "code",
   "execution_count": 0,
   "metadata": {
    "application/vnd.databricks.v1+cell": {
     "cellMetadata": {
      "byteLimit": 2048000,
      "rowLimit": 10000
     },
     "inputWidgets": {},
     "nuid": "59a89e60-6904-41ae-87da-c888a76d3ccf",
     "showTitle": false,
     "tableResultSettingsMap": {},
     "title": ""
    }
   },
   "outputs": [
    {
     "output_type": "stream",
     "name": "stdout",
     "output_type": "stream",
     "text": [
      "total_edges 1668487\n"
     ]
    }
   ],
   "source": [
    "# 2) Compute total number of edges by summing the counts\n",
    "total_edges = df_rel_counts[\"cnt\"].astype(int).sum()\n",
    "print(\"total_edges\", total_edges)"
   ]
  },
  {
   "cell_type": "code",
   "execution_count": 0,
   "metadata": {
    "application/vnd.databricks.v1+cell": {
     "cellMetadata": {
      "byteLimit": 2048000,
      "rowLimit": 10000
     },
     "inputWidgets": {},
     "nuid": "b5d9d643-91d2-40b8-b7f2-68b706cdf8ea",
     "showTitle": false,
     "tableResultSettingsMap": {},
     "title": ""
    }
   },
   "outputs": [
    {
     "output_type": "stream",
     "name": "stdout",
     "output_type": "stream",
     "text": [
      "Node props: ['nodeID', 'xrefCasRN', 'xrefDrugbank', 'commonName', 'sourceDatabase', 'typeOfGene', 'xrefEnsembl', 'xrefNcbiGene', 'geneSymbol', 'chromosome', 'xrefOMIM', 'xrefHGNC', 'xrefGeneOntology', 'pathwayId', 'pathwayName', 'xrefMeSH', 'xrefUberon', 'xrefNciThesaurus', 'xrefDiseaseOntology', 'xrefUmlsCUI', 'TF']\n"
     ]
    }
   ],
   "source": [
    "# 2.1 Node property keys\n",
    "prop_keys = memgraph.execute_and_fetch(\n",
    "    \"MATCH (n) UNWIND keys(n) AS key RETURN DISTINCT key\"\n",
    ")\n",
    "print(\"Node props:\", [row[\"key\"] for row in prop_keys])"
   ]
  },
  {
   "cell_type": "markdown",
   "metadata": {
    "application/vnd.databricks.v1+cell": {
     "cellMetadata": {},
     "inputWidgets": {},
     "nuid": "a458f663-75fd-49f5-acc1-07856f660354",
     "showTitle": false,
     "tableResultSettingsMap": {},
     "title": ""
    }
   },
   "source": [
    "Disease\n",
    "\n",
    "**Key Points:**  \n",
    "1. All 11 Drug→Disease edges target the same canonical label “Alzheimer’s Disease” (rather than any of the more specific subtypes).  \n",
    "2. Out of those 11, 9 edges have type `DRUGTREATSDISEASE` and 2 edges have type `DRUGCAUSESEFFECT`.  \n",
    "3. No drugs are linked to any of the 33 other Alzheimer’s variants—only the generic “Alzheimer’s Disease” node is used.\n",
    "\n",
    "---\n",
    "\n",
    "**Implications for Link-Prediction**\n",
    "\n",
    "- **Extreme Class Imbalance:**  \n",
    "  - There are 34 disease nodes but only a single canonical “Alzheimer’s Disease” node is actually connected to drugs.\n",
    "  - With 1 668 487 total edges in the graph, these 11 Drug→Disease edges are vanishingly rare.\n",
    "\n",
    "- **Focused Task:**  \n",
    "  - In practice, any Drug→Disease link-prediction model will primarily attempt to recover “Alzheimer’s Disease” edges, since *no* other disease variants have drug links.\n",
    "\n"
   ]
  },
  {
   "cell_type": "code",
   "execution_count": 0,
   "metadata": {
    "application/vnd.databricks.v1+cell": {
     "cellMetadata": {
      "byteLimit": 2048000,
      "rowLimit": 10000
     },
     "inputWidgets": {},
     "nuid": "4d2a28fb-0a86-4228-b9b2-2f520b8bfce7",
     "showTitle": false,
     "tableResultSettingsMap": {},
     "title": ""
    }
   },
   "outputs": [
    {
     "output_type": "stream",
     "name": "stdout",
     "output_type": "stream",
     "text": [
      "Total distinct diseases in the graph: 34\ndisease:  ['ALZHEIMER DISEASE 10', 'ALZHEIMER DISEASE 18', 'ALZHEIMER DISEASE 19', 'ALZHEIMER DISEASE 2', 'ALZHEIMER DISEASE 4', 'ALZHEIMER DISEASE 5', 'ALZHEIMER DISEASE 6, LATE-ONSET', 'ALZHEIMER DISEASE 9, SUSCEPTIBILITY TO', 'ALZHEIMER DISEASE, FAMILIAL, 1', 'ALZHEIMER DISEASE, FAMILIAL, 3, WITH SPASTIC PARAPARESIS', 'ALZHEIMER DISEASE, FAMILIAL, 3, WITH UNUSUAL PLAQUES', 'ALZHEIMER DISEASE, FAMILIAL, WITH SPASTIC PARAPARESIS AND UNUSUAL PLAQUES', 'ALZHEIMER DISEASE, SUSCEPTIBILITY TO', 'ALZHEIMER DISEASE, SUSCEPTIBILITY TO, MITOCHONDRIAL', 'Alzheimer Disease 12', 'Alzheimer Disease 14', 'Alzheimer Disease 7', 'Alzheimer Disease 9', 'Alzheimer Disease, Early Onset', 'Alzheimer Disease, Familial, 3, with Spastic Paraparesis and Apraxia', 'Alzheimer Disease, Familial, 3, with Spastic Paraparesis and Unusual Plaques', 'Alzheimer Disease, Late Onset', 'Alzheimer disease type 1', 'Alzheimer disease, familial, type 3', \"Alzheimer's Disease\", \"Alzheimer's Disease, Focal Onset\", \"Dementia due to Alzheimer's disease (disorder)\", 'Familial Alzheimer Disease (FAD)', \"Familial Alzheimer's disease of early onset\", 'Familial Alzheimer-like prion disease', 'Lewy Body Variant of Alzheimer Disease', \"Non-Alzheimer's dementia (e.g., Lewy body dementia, vascular or multi-infarct dementia; mixed dementia; frontotemporal dementia such as Pick's disease; and dementia related to stroke, Parkinson's or Creutzfeldt-Jakob diseases)\", 'Non-amnestic Alzheimer disease', \"Prodromal Alzheimer's disease\"]\n"
     ]
    }
   ],
   "source": [
    "import pandas as pd\n",
    "\n",
    "# 1) How many distinct Disease nodes do we have?\n",
    "count_res = list(memgraph.execute_and_fetch(\"\"\"\n",
    "  MATCH (d:Disease)\n",
    "  RETURN COUNT(d) AS num_diseases\n",
    "\"\"\"))\n",
    "num_diseases = count_res[0][\"num_diseases\"]\n",
    "print(f\"Total distinct diseases in the graph: {num_diseases}\")\n",
    "\n",
    "# 2) List all disease names\n",
    "rows = list(memgraph.execute_and_fetch(\"\"\"\n",
    "  MATCH (d:Disease)\n",
    "  RETURN DISTINCT d.commonName AS disease\n",
    "  ORDER BY d.commonName\n",
    "\"\"\"))\n",
    "diseases = [row['disease'] for row in rows]\n",
    "print(\"disease: \", diseases)"
   ]
  },
  {
   "cell_type": "code",
   "execution_count": 0,
   "metadata": {
    "application/vnd.databricks.v1+cell": {
     "cellMetadata": {
      "byteLimit": 2048000,
      "rowLimit": 10000
     },
     "inputWidgets": {},
     "nuid": "842b9514-b0e6-4e4f-8609-7bbfe6e467bc",
     "showTitle": false,
     "tableResultSettingsMap": {},
     "title": ""
    }
   },
   "outputs": [
    {
     "output_type": "stream",
     "name": "stdout",
     "output_type": "stream",
     "text": [
      "            drug           relation              disease\n0   Benzatropine  DRUGTREATSDISEASE  Alzheimer's Disease\n1      Donepezil  DRUGTREATSDISEASE  Alzheimer's Disease\n2    Galantamine  DRUGTREATSDISEASE  Alzheimer's Disease\n3    Haloperidol  DRUGTREATSDISEASE  Alzheimer's Disease\n4      Memantine  DRUGTREATSDISEASE  Alzheimer's Disease\n5     Naltrexone   DRUGCAUSESEFFECT  Alzheimer's Disease\n6     Quetiapine  DRUGTREATSDISEASE  Alzheimer's Disease\n7   Rivastigmine  DRUGTREATSDISEASE  Alzheimer's Disease\n8     Ropinirole  DRUGTREATSDISEASE  Alzheimer's Disease\n9     Selegiline  DRUGTREATSDISEASE  Alzheimer's Disease\n10   Ziprasidone   DRUGCAUSESEFFECT  Alzheimer's Disease\n"
     ]
    }
   ],
   "source": [
    "import pandas as pd\n",
    "\n",
    "# 1) Raw Drug→Disease edges\n",
    "rows = list(memgraph.execute_and_fetch(\"\"\"\n",
    "  MATCH (dr:Drug)-[r]->(di:Disease)\n",
    "  RETURN dr.commonName   AS drug,\n",
    "         type(r)         AS relation,\n",
    "         di.commonName   AS disease\n",
    "  ORDER BY disease, drug\n",
    "\"\"\"))\n",
    "df = pd.DataFrame(rows)\n",
    "print(df)"
   ]
  },
  {
   "cell_type": "markdown",
   "metadata": {
    "application/vnd.databricks.v1+cell": {
     "cellMetadata": {},
     "inputWidgets": {},
     "nuid": "069e6078-6fd5-4091-8815-ea0a50002cb9",
     "showTitle": false,
     "tableResultSettingsMap": {},
     "title": ""
    }
   },
   "source": [
    "Drug & Gene"
   ]
  },
  {
   "cell_type": "markdown",
   "metadata": {
    "application/vnd.databricks.v1+cell": {
     "cellMetadata": {},
     "inputWidgets": {},
     "nuid": "960e1071-e35c-417c-8c9a-09ad80b24aa8",
     "showTitle": false,
     "tableResultSettingsMap": {},
     "title": ""
    }
   },
   "source": [
    "\n",
    "Among all outgoing edges from Drugs, only 9 edges are of type **DRUGTREATSDISEASE** and 2 edges are of type **DRUGCAUSESEFFECT** (i.e., only 11 total Drug→Disease links). But there are quite few numbers of **GENEASSOCIATESWITHDISEASE** interactions."
   ]
  },
  {
   "cell_type": "code",
   "execution_count": 0,
   "metadata": {
    "application/vnd.databricks.v1+cell": {
     "cellMetadata": {
      "byteLimit": 2048000,
      "rowLimit": 10000
     },
     "inputWidgets": {},
     "nuid": "e0a06391-7d71-4c8c-b7bb-72ac82d3c7d3",
     "showTitle": false,
     "tableResultSettingsMap": {},
     "title": ""
    }
   },
   "outputs": [
    {
     "output_type": "stream",
     "name": "stdout",
     "output_type": "stream",
     "text": [
      "                           rel target_labels    cnt\n0            CHEMICALBINDSGENE        [Gene]  25726\n1  CHEMICALDECREASESEXPRESSION        [Gene]  21051\n2  CHEMICALINCREASESEXPRESSION        [Gene]  18713\n3                  DRUGINCLASS   [DrugClass]   1945\n4            DRUGTREATSDISEASE     [Disease]      9\n5             DRUGCAUSESEFFECT     [Disease]      2\n"
     ]
    }
   ],
   "source": [
    "import pandas as pd\n",
    "\n",
    "# Aggregate outgoing edges from every Drug\n",
    "query = \"\"\"\n",
    "MATCH (d:Drug)-[r]->(n)\n",
    "RETURN type(r) AS rel, labels(n) AS target_labels, COUNT(*) AS cnt\n",
    "ORDER BY cnt DESC\n",
    "\"\"\"\n",
    "rows = list(memgraph.execute_and_fetch(query))\n",
    "df_out = pd.DataFrame(rows)\n",
    "print(df_out)"
   ]
  },
  {
   "cell_type": "code",
   "execution_count": 0,
   "metadata": {
    "application/vnd.databricks.v1+cell": {
     "cellMetadata": {
      "byteLimit": 2048000,
      "rowLimit": 10000
     },
     "inputWidgets": {},
     "nuid": "351aabd8-6a59-49dc-b550-c322d9760c24",
     "showTitle": false,
     "tableResultSettingsMap": {},
     "title": ""
    }
   },
   "outputs": [
    {
     "output_type": "stream",
     "name": "stdout",
     "output_type": "stream",
     "text": [
      "                                   rel        target_labels     cnt\n0  GENEPARTICIPATESINBIOLOGICALPROCESS  [BiologicalProcess]  548285\n1                    GENEREGULATESGENE               [Gene]  263978\n2                        GENEINPATHWAY            [Pathway]  178991\n3                GENEINTERACTSWITHGENE               [Gene]  147088\n4             GENEHASMOLECULARFUNCTION  [MolecularFunction]  104752\n5  GENEASSOCIATEDWITHCELLULARCOMPONENT  [CellularComponent]   88880\n6                 GENECOVARIESWITHGENE               [Gene]   61606\n7            GENEASSOCIATESWITHDISEASE            [Disease]     508\n"
     ]
    }
   ],
   "source": [
    "import pandas as pd\n",
    "\n",
    "# Aggregate outgoing edges from every Gene\n",
    "query = \"\"\"\n",
    "MATCH (d:Gene)-[r]->(n)\n",
    "RETURN type(r) AS rel, labels(n) AS target_labels, COUNT(*) AS cnt\n",
    "ORDER BY cnt DESC\n",
    "\"\"\"\n",
    "rows = list(memgraph.execute_and_fetch(query))\n",
    "df_out = pd.DataFrame(rows)\n",
    "print(df_out)\n"
   ]
  },
  {
   "cell_type": "markdown",
   "metadata": {
    "application/vnd.databricks.v1+cell": {
     "cellMetadata": {},
     "inputWidgets": {},
     "nuid": "a88428e3-b99a-4c8f-8093-a1ea233d7f6f",
     "showTitle": false,
     "tableResultSettingsMap": {},
     "title": ""
    }
   },
   "source": [
    "### Multi‐Hop Drug–Disease Relations\n",
    "\n",
    "**Potential Strategy:**  \n",
    "The graph contains a very large number of drug–gene and gene–gene edges but only a handful of direct drug–disease links.  We can exploit this by **inserting one or more gene nodes as intermediate hops** to uncover many more candidate Drug→Disease connections.\n",
    "\n",
    "> _For example_, if we allow exactly one intermediate `Gene` node (i.e., Drug→Gene→Disease), we find **4352** potential Drug→Disease pairs that are not directly linked.\n",
    "\n",
    "**Idea:**  \n",
    "Use these **higher‐order paths** (e.g., Drug→Gene→Disease or Drug→Gene→Process→Gene→Disease) as features or as positive/negative signals in a supervised link‐prediction model.  In practice:\n",
    "\n",
    "1. Enumerate all simple Gene‐mediated two‐hop paths (Drug→Gene→Disease).  \n",
    "2. Count (or score) how many distinct gene intermediates connect each Drug–Disease pair.  \n",
    "3. Use that count (or a weighted path score) as a predictor:  \n",
    "   - A high number of gene‐mediated paths suggests a likely Drug–Disease association.  \n",
    "   - Zero gene-mediated paths suggests a strong negative signal.  \n",
    "\n",
    "By integrating these multi-hop path features, we can overcome the scarcity of direct Drug→Disease edges and dramatically expand our training set for downstream link‐prediction.  "
   ]
  },
  {
   "cell_type": "code",
   "execution_count": 0,
   "metadata": {
    "application/vnd.databricks.v1+cell": {
     "cellMetadata": {
      "byteLimit": 2048000,
      "rowLimit": 10000
     },
     "inputWidgets": {},
     "nuid": "193ca6db-dd25-4ed2-b1d8-62d5e26ba1f6",
     "showTitle": false,
     "tableResultSettingsMap": {},
     "title": ""
    }
   },
   "outputs": [
    {
     "output_type": "stream",
     "name": "stdout",
     "output_type": "stream",
     "text": [
      "Found 4352 distinct Drug→Disease candidates via genes\n\n"
     ]
    }
   ],
   "source": [
    "import pandas as pd\n",
    "\n",
    "# 1) Fetch every Drug–Gene–Disease two-hop\n",
    "query = \"\"\"\n",
    "MATCH (d:Drug)-[:CHEMICALBINDSGENE|\n",
    "               :CHEMICALINCREASESEXPRESSION|\n",
    "               :CHEMICALDECREASESEXPRESSION]->(g:Gene)\n",
    "MATCH (g)-[:GENEASSOCIATESWITHDISEASE]->(x:Disease)\n",
    "RETURN d.commonName    AS drug,\n",
    "       x.commonName    AS disease,\n",
    "       COUNT(DISTINCT g) AS via_genes\n",
    "ORDER BY via_genes DESC\n",
    "\"\"\"\n",
    "rows = list(memgraph.execute_and_fetch(query))\n",
    "\n",
    "# 2) Load into a DataFrame\n",
    "df = pd.DataFrame(rows)\n",
    "print(f\"Found {len(df)} distinct Drug→Disease candidates via genes\\n\")"
   ]
  },
  {
   "cell_type": "markdown",
   "metadata": {
    "application/vnd.databricks.v1+cell": {
     "cellMetadata": {},
     "inputWidgets": {},
     "nuid": "f5400e6b-e919-4319-a7e5-0059419f3e52",
     "showTitle": false,
     "tableResultSettingsMap": {},
     "title": ""
    }
   },
   "source": [
    "All common exploratory path between Drug and Disease"
   ]
  },
  {
   "cell_type": "code",
   "execution_count": 0,
   "metadata": {
    "application/vnd.databricks.v1+cell": {
     "cellMetadata": {
      "byteLimit": 2048000,
      "rowLimit": 10000
     },
     "inputWidgets": {},
     "nuid": "d4e42087-765c-4c33-87ce-b485e6305aee",
     "showTitle": false,
     "tableResultSettingsMap": {},
     "title": ""
    }
   },
   "outputs": [
    {
     "output_type": "stream",
     "name": "stdout",
     "output_type": "stream",
     "text": [
      "DF 0 columns: ['drug', 'disease', 'via_genes']\nDF 1 columns: ['drug', 'disease', 'via_processes']\nDF 2 columns: ['drug', 'disease', 'via_pathways']\nDF 3 columns: ['drug', 'disease', 'via_molecular_func']\nDF 4 columns: ['drug', 'disease', 'via_cellular_comp']\nDF 5 columns: []\nDF 6 columns: []\n"
     ]
    }
   ],
   "source": [
    "import pandas as pd\n",
    "from functools import reduce\n",
    "\n",
    "# Define each meta‐path by (query_fragment, column_name)\n",
    "meta_paths = {\n",
    "    \"via_genes\": (\n",
    "        # 1) Drug→Gene via any of the three chemical relations\n",
    "        \"\"\"\n",
    "        MATCH (dr:Drug)-[r]->(g:Gene)\n",
    "        WHERE type(r) IN [\n",
    "          'CHEMICALBINDSGENE',\n",
    "          'CHEMICALINCREASESEXPRESSION',\n",
    "          'CHEMICALDECREASESEXPRESSION'\n",
    "        ]\n",
    "        MATCH (g)-[:GENEASSOCIATESWITHDISEASE]->(dx:Disease)\n",
    "        RETURN dr.commonName AS drug,\n",
    "               dx.commonName AS disease,\n",
    "               COUNT(DISTINCT g) AS via_genes\n",
    "        \"\"\", \"via_genes\"\n",
    "    ),\n",
    "    \"via_processes\": (\n",
    "        \"\"\"\n",
    "        MATCH (dr:Drug)-[r1:CHEMICALBINDSGENE]->(g:Gene)\n",
    "        MATCH (g)-[:GENEPARTICIPATESINBIOLOGICALPROCESS]->(bp:BiologicalProcess)\n",
    "        MATCH (bp)<-[:GENEPARTICIPATESINBIOLOGICALPROCESS]-(g2:Gene)\n",
    "        MATCH (g2)-[:GENEASSOCIATESWITHDISEASE]->(dx:Disease)\n",
    "        RETURN dr.commonName AS drug,\n",
    "               dx.commonName AS disease,\n",
    "               COUNT(DISTINCT bp) AS via_processes\n",
    "        \"\"\", \"via_processes\"\n",
    "    ),\n",
    "    \"via_pathways\": (\n",
    "        \"\"\"\n",
    "        MATCH (dr:Drug)-[r1:CHEMICALBINDSGENE]->(g:Gene)\n",
    "        MATCH (g)-[:GENEINPATHWAY]->(pw:Pathway)\n",
    "        MATCH (pw)<-[:GENEINPATHWAY]-(g2:Gene)\n",
    "        MATCH (g2)-[:GENEASSOCIATESWITHDISEASE]->(dx:Disease)\n",
    "        RETURN dr.commonName AS drug,\n",
    "               dx.commonName AS disease,\n",
    "               COUNT(DISTINCT pw) AS via_pathways\n",
    "        \"\"\", \"via_pathways\"\n",
    "    ),\n",
    "    \"via_molecular_func\": (\n",
    "        \"\"\"\n",
    "        MATCH (dr:Drug)-[r1:CHEMICALBINDSGENE]->(g:Gene)\n",
    "        MATCH (g)-[:GENEHASMOLECULARFUNCTION]->(mf:MolecularFunction)\n",
    "        MATCH (mf)<-[:GENEHASMOLECULARFUNCTION]-(g2:Gene)\n",
    "        MATCH (g2)-[:GENEASSOCIATESWITHDISEASE]->(dx:Disease)\n",
    "        RETURN dr.commonName AS drug,\n",
    "               dx.commonName AS disease,\n",
    "               COUNT(DISTINCT mf) AS via_molecular_func\n",
    "        \"\"\", \"via_molecular_func\"\n",
    "    ),\n",
    "    \"via_cellular_comp\": (\n",
    "        \"\"\"\n",
    "        MATCH (dr:Drug)-[r1:CHEMICALBINDSGENE]->(g:Gene)\n",
    "        MATCH (g)-[:GENEASSOCIATEDWITHCELLULARCOMPONENT]->(cc:CellularComponent)\n",
    "        MATCH (cc)<-[:GENEASSOCIATEDWITHCELLULARCOMPONENT]-(g2:Gene)\n",
    "        MATCH (g2)-[:GENEASSOCIATESWITHDISEASE]->(dx:Disease)\n",
    "        RETURN dr.commonName AS drug,\n",
    "               dx.commonName AS disease,\n",
    "               COUNT(DISTINCT cc) AS via_cellular_comp\n",
    "        \"\"\", \"via_cellular_comp\"\n",
    "    ),\n",
    "    \"via_TF\": (\n",
    "        \"\"\"\n",
    "        MATCH (dr:Drug)-[r1:CHEMICALBINDSGENE]->(tf:Gene)\n",
    "        WHERE tf.TF = true\n",
    "        MATCH (tf)-[:GENEREGULATESGENE]->(g:Gene)\n",
    "        MATCH (g)-[:GENEASSOCIATESWITHDISEASE]->(dx:Disease)\n",
    "        RETURN dr.commonName AS drug,\n",
    "               dx.commonName AS disease,\n",
    "               COUNT(DISTINCT tf) AS via_TF\n",
    "        \"\"\", \"via_TF\"\n",
    "    ),\n",
    "    \"via_drugclass\": (\n",
    "        \"\"\"\n",
    "        MATCH (dr:Drug)-[:DRUGINCLASS]->(dc:DrugClass)\n",
    "        MATCH (dc)-[:DRUGINCLASS]->(d2:Drug)\n",
    "        MATCH (d2)-[:CHEMICALBINDSGENE]->(g:Gene)\n",
    "        MATCH (g)-[:GENEASSOCIATESWITHDISEASE]->(dx:Disease)\n",
    "        RETURN dr.commonName AS drug,\n",
    "               dx.commonName AS disease,\n",
    "               COUNT(DISTINCT dc) AS via_drugclass\n",
    "        \"\"\", \"via_drugclass\"\n",
    "    ),\n",
    "}\n",
    "\n",
    "# 2) Run each query and collect into DataFrames\n",
    "dfs = []\n",
    "for cypher, col in meta_paths.values():\n",
    "    rows = list(memgraph.execute_and_fetch(cypher))\n",
    "    df = pd.DataFrame(rows)\n",
    "    dfs.append(df)\n",
    "\n",
    "for i, df in enumerate(dfs):\n",
    "    print(f\"DF {i} columns:\", df.columns.tolist())"
   ]
  },
  {
   "cell_type": "code",
   "execution_count": 0,
   "metadata": {
    "application/vnd.databricks.v1+cell": {
     "cellMetadata": {
      "byteLimit": 2048000,
      "rowLimit": 10000
     },
     "inputWidgets": {},
     "nuid": "233f7552-36bd-48b4-8c7b-d66f163495c5",
     "showTitle": false,
     "tableResultSettingsMap": {},
     "title": ""
    }
   },
   "outputs": [],
   "source": [
    "import pandas as pd\n",
    "from functools import reduce\n",
    "\n",
    "dfs = []\n",
    "for name, (cypher, col) in meta_paths.items():\n",
    "    rows = list(memgraph.execute_and_fetch(cypher))\n",
    "    if rows:\n",
    "        df = pd.DataFrame(rows)\n",
    "    else:\n",
    "        # create an empty DataFrame with the right schema\n",
    "        df = pd.DataFrame(columns=[\"drug\",\"disease\", name])\n",
    "    dfs.append(df)\n"
   ]
  },
  {
   "cell_type": "code",
   "execution_count": 0,
   "metadata": {
    "application/vnd.databricks.v1+cell": {
     "cellMetadata": {
      "byteLimit": 2048000,
      "rowLimit": 10000
     },
     "inputWidgets": {},
     "nuid": "cc594e0b-62ca-463e-bc39-8669c28b1788",
     "showTitle": false,
     "tableResultSettingsMap": {},
     "title": ""
    }
   },
   "outputs": [],
   "source": [
    "df_all = reduce(\n",
    "    lambda left, right: pd.merge(left, right, on=[\"drug\",\"disease\"], how=\"outer\"),\n",
    "    dfs\n",
    ")\n",
    "\n",
    "# fill NaNs in each path‐count column\n",
    "for name in meta_paths.keys():\n",
    "    df_all[name] = df_all[name].fillna(0).astype(int)\n",
    "\n",
    "# optional any‐path sum\n",
    "df_all[\"via_any\"] = df_all[list(meta_paths.keys())].sum(axis=1)\n",
    "\n"
   ]
  },
  {
   "cell_type": "code",
   "execution_count": 0,
   "metadata": {
    "application/vnd.databricks.v1+cell": {
     "cellMetadata": {
      "byteLimit": 2048000,
      "rowLimit": 10000
     },
     "inputWidgets": {},
     "nuid": "3eb46a7f-3f1e-4848-8b84-cff169033345",
     "showTitle": false,
     "tableResultSettingsMap": {},
     "title": ""
    }
   },
   "outputs": [
    {
     "output_type": "stream",
     "name": "stdout",
     "output_type": "stream",
     "text": [
      "Total distinct Drug→Disease pairs discovered by any meta‐path: 27983\nNumber of pairs with at least one meta‐path: 27983\nTotal meta‐path counts across all pairs: 7144546\n\nTop 10 (drug, disease) by total meta‐paths:\n              drug                           disease  total_paths\n3934  Fostamatinib               Alzheimer's Disease         4032\n389   Fostamatinib  Familial Alzheimer Disease (FAD)         4026\n984   Fostamatinib  Alzheimer's Disease, Focal Onset         4013\n1683  Fostamatinib     Alzheimer Disease, Late Onset         4013\n2586  Fostamatinib    Alzheimer Disease, Early Onset         4013\n3933    Fedratinib               Alzheimer's Disease         3890\n391     Fedratinib  Familial Alzheimer Disease (FAD)         3884\n1499     Sunitinib               Alzheimer's Disease         3882\n358      Sunitinib  Familial Alzheimer Disease (FAD)         3876\n2228    Fedratinib  Alzheimer's Disease, Focal Onset         3872\n"
     ]
    }
   ],
   "source": [
    "# 3) Fill NaN with 0 in all meta‐path count columns\n",
    "for _, col_name in meta_paths.values():\n",
    "    if col_name in df_all.columns:\n",
    "        df_all[col_name] = df_all[col_name].fillna(0).astype(int)\n",
    "    else:\n",
    "        # If a particular meta‐path column never appeared, create it filled with zeros\n",
    "        df_all[col_name] = 0\n",
    "\n",
    "# 4) Create a \"total_paths\" column summing all meta‐path counts for each (drug, disease)\n",
    "via_columns = [col for _, col in meta_paths.values()]\n",
    "df_all[\"total_paths\"] = df_all[via_columns].sum(axis=1)\n",
    "\n",
    "# 5) Compute summary statistics\n",
    "total_pairs = len(df_all)\n",
    "pairs_with_any_path = (df_all[\"total_paths\"] > 0).sum()\n",
    "total_meta_paths = df_all[\"total_paths\"].sum()\n",
    "\n",
    "print(f\"Total distinct Drug→Disease pairs discovered by any meta‐path: {total_pairs}\")\n",
    "print(f\"Number of pairs with at least one meta‐path: {pairs_with_any_path}\")\n",
    "print(f\"Total meta‐path counts across all pairs: {total_meta_paths}\")\n",
    "\n",
    "# 6) (Optional) Inspect the top 10 Drug→Disease pairs by total_paths\n",
    "top_10 = df_all.sort_values(\"total_paths\", ascending=False).head(10)\n",
    "print(\"\\nTop 10 (drug, disease) by total meta‐paths:\")\n",
    "print(top_10[[\"drug\", \"disease\", \"total_paths\"]])"
   ]
  },
  {
   "cell_type": "markdown",
   "metadata": {
    "application/vnd.databricks.v1+cell": {
     "cellMetadata": {},
     "inputWidgets": {},
     "nuid": "f0c1e76f-7a16-43fb-b50b-64979fce28d7",
     "showTitle": false,
     "tableResultSettingsMap": {},
     "title": ""
    }
   },
   "source": [
    "\n",
    "**Observations:**\n",
    "\n",
    "1. **Drug “Fostamatinib”** appears at the very top for multiple Alzheimer variants.  \n",
    "   - It has around 4000 distinct gene‐ or pathway‐mediated “connectors” to *each* of several Alzheimer labels.  \n",
    "   - This suggests that in our heterogenous graph, Fostamatinib’s target genes co‐occur (via expression/regulation) with many Alzheimer‐associated genes, biological processes, or pathways.\n",
    "\n",
    "2. **“Fedratinib” and “Sunitinib”** also show up with similarly large meta‐path counts (≈3800–3900).  \n",
    "   - These drugs bind or regulate a set of genes that overlap heavily with Alzheimer‐related gene sub‐networks or share common pathways.  \n",
    "\n",
    "3. **High Meta‐Path Counts Imply Strong Indirect Evidence**  \n",
    "   - A “total_paths” of ~4000 means that there are thousands of distinct Gene→…→Disease routes.  \n",
    "   - In a supervised link‐prediction pipeline, such a drug–disease pair would be considered highly promising (high positive signal) even if no direct `DRUGTREATSDISEASE` edge exists in the original data.\n",
    "\n",
    "4. **Breadth vs. Specificity**  \n",
    "   - Notice that **Fostamatinib**, for example, has similarly large `total_paths` to *multiple* Alzheimer variants (generic “Alzheimer’s Disease,” “Familial Alzheimer Disease,” “Early Onset,” “Late Onset,” etc.).  \n",
    "   - This indicates that the underlying gene signals are not uniquely pointing to just “Alzheimer’s Disease”—instead, they cover a broader spectrum of related disease‐nodes that share many of the same gene‐associations.\n",
    "\n",
    "### Future Implications\n",
    "\n",
    "- **Candidate Ranking:**  \n",
    "  If we want to predict new Drug→Disease edges, we could rank drug–disease pairs by their `total_paths` score.  For instance, Fostamatinib→Alzheimer’s has the highest ranking, so it would be one of our top candidates for “possible treat” edges.  \n",
    "\n",
    "- **Filtering Threshold:**  \n",
    "  Given that 27 983 drug–disease pairs have **at least one** meta‐path, but only 11 true Drug→Disease edges are known, we need to pick a sensible cutoff.  \n",
    "  - For example, we might only consider pairs with `total_paths ≥ 1000` to limit the candidate set to a few hundred top pairs.\n",
    "\n",
    "- **Feature Engineering:**  \n",
    "  In a downstream classifier (e.g. a logistic regression or MLP), use `total_paths`—or individual meta‐path counts (`via_genes`, `via_processes`, etc.)—as numeric features.  Pairs with unusually high path counts should receive higher model scores.\n",
    "\n",
    "- **Interpretability:**  \n",
    "  Because each meta‐path type (e.g. via_genes, via_pathways) is a separate column, we can inspect which “channels” (genes vs. pathways vs. molecular functions, etc.) contribute most strongly to any given drug–disease candidate.  That provides a mechanistic justification—e.g., “Fostamatinib targets Gene X, which participates in Pathway Y, which is known to be dysregulated in Alzheimer’s.”\n",
    "\n",
    "---\n",
    "\n",
    "**Conclusion:**  \n",
    "The meta‐path enumeration reveals nearly **28,000** possible Drug→Disease pairs with nonzero “support” via genes or related biological entities.  By ranking on the total number of meta‐paths, we obtain a prioritized list of candidates—led by drugs like Fostamatinib and Fedratinib—that can serve as a rich training set for supervised link‐prediction or as a set of hypotheses for further biological validation."
   ]
  }
 ],
 "metadata": {
  "application/vnd.databricks.v1+notebook": {
   "computePreferences": null,
   "dashboards": [],
   "environmentMetadata": {
    "base_environment": "",
    "environment_version": "2"
   },
   "inputWidgetPreferences": null,
   "language": "python",
   "notebookMetadata": {
    "pythonIndentUnit": 2
   },
   "notebookName": "EDA on Alzkb",
   "widgets": {}
  },
  "language_info": {
   "name": "python"
  }
 },
 "nbformat": 4,
 "nbformat_minor": 0
}