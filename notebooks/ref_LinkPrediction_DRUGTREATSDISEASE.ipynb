{
 "cells": [
  {
   "cell_type": "markdown",
   "metadata": {},
   "source": [
    "# https://colab.research.google.com/drive/1r_FWLSFf9iL0OWeHeD31d_Opt031P1Nq?usp=sharing#scrollTo=Ogh615ka9I2c\n",
    "# https://pytorch-geometric.readthedocs.io/en/latest/notes/heterogeneous.html"
   ]
  },
  {
   "cell_type": "code",
   "execution_count": 1,
   "metadata": {
    "colab": {
     "base_uri": "https://localhost:8080/"
    },
    "id": "uh7LaSzfwcj2",
    "outputId": "08573a01-e064-4c84-8624-440ffb2a2d6f"
   },
   "outputs": [
    {
     "name": "stdout",
     "output_type": "stream",
     "text": [
      "2.6.0\n"
     ]
    }
   ],
   "source": [
    "import torch\n",
    "from torch import Tensor\n",
    "print(torch.__version__)"
   ]
  },
  {
   "cell_type": "code",
   "execution_count": 2,
   "metadata": {
    "colab": {
     "base_uri": "https://localhost:8080/"
    },
    "id": "AsWUrVh7vZtM",
    "outputId": "2dbdb078-f500-48f2-9bf2-e5c0b0faa0a5"
   },
   "outputs": [],
   "source": [
    "# Install required packages.\n",
    "import os\n",
    "os.environ['TORCH'] = torch.__version__\n",
    "\n",
    "#!pip install torch-scatter -f https://data.pyg.org/whl/torch-${TORCH}.html\n",
    "#!pip install torch-sparse -f https://data.pyg.org/whl/torch-${TORCH}.html\n",
    "#!pip install pyg-lib -f https://data.pyg.org/whl/nightly/torch-${TORCH}.html\n",
    "#!pip install git+https://github.com/pyg-team/pytorch_geometric.git"
   ]
  },
  {
   "cell_type": "markdown",
   "metadata": {
    "id": "N_pshZh8Y3dw"
   },
   "source": [
    "## Heterogeneous Graph Creation"
   ]
  },
  {
   "cell_type": "markdown",
   "metadata": {},
   "source": [
    "### Connect to the Graph Database"
   ]
  },
  {
   "cell_type": "code",
   "execution_count": 3,
   "metadata": {},
   "outputs": [],
   "source": [
    "#Connect to the Graph Database\n",
    "import pandas as pd\n",
    "import numpy as np\n",
    "from gqlalchemy import Memgraph\n",
    "from gqlalchemy import match\n",
    "from gqlalchemy.query_builders.memgraph_query_builder import Operator\n",
    "\n",
    "# Make a connection to the database\n",
    "memgraph = Memgraph(host='alzkb.ai', port=7687)"
   ]
  },
  {
   "cell_type": "markdown",
   "metadata": {},
   "source": [
    "### Node features"
   ]
  },
  {
   "cell_type": "code",
   "execution_count": 4,
   "metadata": {},
   "outputs": [],
   "source": [
    "def explode_cypher_node(df_nodes):\n",
    "    nodes_data = []\n",
    "    for i, record in df_nodes.iterrows():\n",
    "        node = record[\"n\"]\n",
    "        node_data = {\n",
    "            \"labels\": node._labels,\n",
    "            \"id\": node._id,\n",
    "            **node._properties\n",
    "        }\n",
    "        nodes_data.append(node_data)\n",
    "\n",
    "    nodes_df = pd.DataFrame(nodes_data)\n",
    "    return nodes_df"
   ]
  },
  {
   "cell_type": "code",
   "execution_count": 5,
   "metadata": {},
   "outputs": [],
   "source": [
    "from sklearn.preprocessing import LabelEncoder\n",
    "import torch\n",
    "\n",
    "def get_node_feature(type):\n",
    "    query = memgraph.execute_and_fetch(f\"MATCH (n:{type}) RETURN n\")\n",
    "    df_nodes = pd.DataFrame(query)\n",
    "    df_nodes = explode_cypher_node(df_nodes)\n",
    "\n",
    "    #Create a mapping from unique node indices to range [0, num_user_nodes):\n",
    "    unique_id = df_nodes['id'].unique()\n",
    "    unique_id = pd.DataFrame(data={\n",
    "        f'{type}Id': unique_id,\n",
    "        'mappedID': pd.RangeIndex(len(unique_id)),\n",
    "    })\n",
    "    print(unique_id.head())\n",
    "    \n",
    "    #label encoding\n",
    "    label_encoder = LabelEncoder()\n",
    "\n",
    "    df_nodes_encoded = df_nodes.set_index('id')\n",
    "    df_nodes_encoded = df_nodes_encoded.drop(columns={'labels', 'nodeID'})\n",
    "    df_nodes_encoded = df_nodes_encoded.apply(label_encoder.fit_transform)\n",
    "    print(df_nodes_encoded.head())\n",
    "\n",
    "    #save feature representation of node to torch format\n",
    "    feat = torch.from_numpy(df_nodes_encoded.values).to(torch.float)\n",
    "    print(feat.shape)\n",
    "    print('--------------------------------')\n",
    "\n",
    "    return feat, unique_id"
   ]
  },
  {
   "cell_type": "code",
   "execution_count": 7,
   "metadata": {},
   "outputs": [
    {
     "name": "stderr",
     "output_type": "stream",
     "text": [
      "/Users/lib/anaconda3/envs/gnn_playground/lib/python3.12/site-packages/gqlalchemy/models.py:349: GQLAlchemySubclassNotFoundWarning: ({'BiologicalProcess'}, <class 'gqlalchemy.models.Node'>)\n",
      "  warnings.warn(GQLAlchemySubclassNotFoundWarning(types, cls))\n"
     ]
    },
    {
     "name": "stdout",
     "output_type": "stream",
     "text": [
      "   BiologicalProcessId  mappedID\n",
      "0               209860         0\n",
      "1               209861         1\n",
      "2               209862         2\n",
      "3               209863         3\n",
      "4               209864         4\n",
      "        xrefGeneOntology  commonName  sourceDatabase\n",
      "id                                                  \n",
      "209860              5749           0               0\n",
      "209861              5751           1               0\n",
      "209862              5301           2               0\n",
      "209863              1114           3               0\n",
      "209864              4667           4               0\n",
      "torch.Size([12322, 3])\n",
      "--------------------------------\n"
     ]
    },
    {
     "name": "stderr",
     "output_type": "stream",
     "text": [
      "/Users/lib/anaconda3/envs/gnn_playground/lib/python3.12/site-packages/gqlalchemy/models.py:349: GQLAlchemySubclassNotFoundWarning: ({'BodyPart'}, <class 'gqlalchemy.models.Node'>)\n",
      "  warnings.warn(GQLAlchemySubclassNotFoundWarning(types, cls))\n"
     ]
    },
    {
     "name": "stdout",
     "output_type": "stream",
     "text": [
      "   BodyPartId  mappedID\n",
      "0      232358         0\n",
      "1      232359         1\n",
      "2      232360         2\n",
      "3      232361         3\n",
      "4      232362         4\n",
      "        xrefUberon  commonName  sourceDatabase\n",
      "id                                            \n",
      "232358         395           0               0\n",
      "232359          92           1               0\n",
      "232360         137           2               0\n",
      "232361          33           3               0\n",
      "232362         215           4               0\n",
      "torch.Size([652, 3])\n",
      "--------------------------------\n"
     ]
    },
    {
     "name": "stderr",
     "output_type": "stream",
     "text": [
      "/Users/lib/anaconda3/envs/gnn_playground/lib/python3.12/site-packages/gqlalchemy/models.py:349: GQLAlchemySubclassNotFoundWarning: ({'CellularComponent'}, <class 'gqlalchemy.models.Node'>)\n",
      "  warnings.warn(GQLAlchemySubclassNotFoundWarning(types, cls))\n"
     ]
    },
    {
     "name": "stdout",
     "output_type": "stream",
     "text": [
      "   CellularComponentId  mappedID\n",
      "0               230158         0\n",
      "1               230159         1\n",
      "2               230160         2\n",
      "3               230161         3\n",
      "4               230162         4\n",
      "        commonName  xrefGeneOntology\n",
      "id                                  \n",
      "230158           0               336\n",
      "230159           1               125\n",
      "230160           2              1631\n",
      "230161           3               316\n",
      "230162           4              1519\n",
      "torch.Size([1695, 2])\n",
      "--------------------------------\n"
     ]
    },
    {
     "name": "stderr",
     "output_type": "stream",
     "text": [
      "/Users/lib/anaconda3/envs/gnn_playground/lib/python3.12/site-packages/gqlalchemy/models.py:349: GQLAlchemySubclassNotFoundWarning: ({'Disease'}, <class 'gqlalchemy.models.Node'>)\n",
      "  warnings.warn(GQLAlchemySubclassNotFoundWarning(types, cls))\n",
      "/Users/lib/anaconda3/envs/gnn_playground/lib/python3.12/site-packages/gqlalchemy/models.py:349: GQLAlchemySubclassNotFoundWarning: ({'Drug'}, <class 'gqlalchemy.models.Node'>)\n",
      "  warnings.warn(GQLAlchemySubclassNotFoundWarning(types, cls))\n"
     ]
    },
    {
     "name": "stdout",
     "output_type": "stream",
     "text": [
      "   DiseaseId  mappedID\n",
      "0     233484         0\n",
      "1     233485         1\n",
      "2     233486         2\n",
      "3     233487         3\n",
      "4     233488         4\n",
      "        xrefUmlsCUI  xrefDiseaseOntology  commonName  sourceDatabase\n",
      "id                                                                  \n",
      "233484           18                    9           0               0\n",
      "233485           25                   13           1               0\n",
      "233486           26                   14           2               0\n",
      "233487           16                   17           3               0\n",
      "233488           11                    6           4               0\n",
      "torch.Size([34, 4])\n",
      "--------------------------------\n",
      "   DrugId  mappedID\n",
      "0       0         0\n",
      "1       1         1\n",
      "2       2         2\n",
      "3       3         3\n",
      "4       4         4\n",
      "    xrefDrugbank  xrefCasRN  commonName  sourceDatabase\n",
      "id                                                     \n",
      "0           3143       2892           0               0\n",
      "1           1941        357           1               0\n",
      "2           2090       2504           2               0\n",
      "3           9439       2707           3               0\n",
      "4          15960       6504           4               0\n",
      "torch.Size([16581, 4])\n",
      "--------------------------------\n"
     ]
    },
    {
     "name": "stderr",
     "output_type": "stream",
     "text": [
      "/Users/lib/anaconda3/envs/gnn_playground/lib/python3.12/site-packages/gqlalchemy/models.py:349: GQLAlchemySubclassNotFoundWarning: ({'DrugClass'}, <class 'gqlalchemy.models.Node'>)\n",
      "  warnings.warn(GQLAlchemySubclassNotFoundWarning(types, cls))\n",
      "/Users/lib/anaconda3/envs/gnn_playground/lib/python3.12/site-packages/gqlalchemy/models.py:349: GQLAlchemySubclassNotFoundWarning: ({'Gene'}, <class 'gqlalchemy.models.Node'>)\n",
      "  warnings.warn(GQLAlchemySubclassNotFoundWarning(types, cls))\n"
     ]
    },
    {
     "name": "stdout",
     "output_type": "stream",
     "text": [
      "   DrugClassId  mappedID\n",
      "0       233010         0\n",
      "1       233011         1\n",
      "2       233012         2\n",
      "3       233013         3\n",
      "4       233014         4\n",
      "        xrefNciThesaurus  commonName  sourceDatabase\n",
      "id                                                  \n",
      "233010               339           0               0\n",
      "233011               128           1               0\n",
      "233012               239           2               0\n",
      "233013               147           3               0\n",
      "233014               327           4               0\n",
      "torch.Size([474, 3])\n",
      "--------------------------------\n",
      "   GeneId  mappedID\n",
      "0   16581         0\n",
      "1   16582         1\n",
      "2   16583         2\n",
      "3   16584         3\n",
      "4   16585         4\n",
      "       xrefNcbiGene  chromosome  commonName  geneSymbol  xrefEnsembl  \\\n",
      "id                                                                     \n",
      "16581         55031           4           0           0            0   \n",
      "16582         36003          10           0          13        33031   \n",
      "16583         28570          11           0          14        46099   \n",
      "16584         28571           9           0          15        46988   \n",
      "16585         33437          12           0          16        46095   \n",
      "\n",
      "       typeOfGene  sourceDatabase  xrefOMIM  xrefHGNC  \n",
      "id                                                     \n",
      "16581           0               0     18486     43775  \n",
      "16582           4               0     18486     43775  \n",
      "16583          10               0        84     43775  \n",
      "16584          10               0     12398     43775  \n",
      "16585          10               0         0     43775  \n",
      "torch.Size([193279, 9])\n",
      "--------------------------------\n"
     ]
    },
    {
     "name": "stderr",
     "output_type": "stream",
     "text": [
      "/Users/lib/anaconda3/envs/gnn_playground/lib/python3.12/site-packages/gqlalchemy/models.py:349: GQLAlchemySubclassNotFoundWarning: ({'MolecularFunction'}, <class 'gqlalchemy.models.Node'>)\n",
      "  warnings.warn(GQLAlchemySubclassNotFoundWarning(types, cls))\n"
     ]
    },
    {
     "name": "stdout",
     "output_type": "stream",
     "text": [
      "   MolecularFunctionId  mappedID\n",
      "0               226698         0\n",
      "1               226699         1\n",
      "2               226700         2\n",
      "3               226701         3\n",
      "4               226702         4\n",
      "        commonName  xrefGeneOntology\n",
      "id                                  \n",
      "226698           0               140\n",
      "226699           1              1113\n",
      "226700           2              3139\n",
      "226701           3              1679\n",
      "226702           4              3366\n",
      "torch.Size([3460, 2])\n",
      "--------------------------------\n"
     ]
    },
    {
     "name": "stderr",
     "output_type": "stream",
     "text": [
      "/Users/lib/anaconda3/envs/gnn_playground/lib/python3.12/site-packages/gqlalchemy/models.py:349: GQLAlchemySubclassNotFoundWarning: ({'Pathway'}, <class 'gqlalchemy.models.Node'>)\n",
      "  warnings.warn(GQLAlchemySubclassNotFoundWarning(types, cls))\n"
     ]
    },
    {
     "name": "stdout",
     "output_type": "stream",
     "text": [
      "   PathwayId  mappedID\n",
      "0     222182         0\n",
      "1     222183         1\n",
      "2     222184         2\n",
      "3     222185         3\n",
      "4     222186         4\n",
      "        pathwayName  pathwayId  sourceDatabase\n",
      "id                                            \n",
      "222182         4313          1              23\n",
      "222183           35          2               9\n",
      "222184         4461          3               0\n",
      "222185         4240          4              23\n",
      "222186         3964          5              23\n",
      "torch.Size([4516, 3])\n",
      "--------------------------------\n",
      "   SymptomId  mappedID\n",
      "0     231853         0\n",
      "1     231854         1\n",
      "2     231855         2\n",
      "3     231856         3\n",
      "4     231857         4\n",
      "        xrefMeSH  commonName  sourceDatabase\n",
      "id                                          \n",
      "231853         0           0               0\n",
      "231854       328           1               0\n",
      "231855       490           2               0\n",
      "231856        50           3               0\n",
      "231857        51           4               0\n",
      "torch.Size([505, 3])\n",
      "--------------------------------\n",
      "   TranscriptionFactorId  mappedID\n",
      "0                 233518         0\n",
      "1                 233519         1\n",
      "2                 233520         2\n",
      "3                 233521         3\n",
      "4                 233522         4\n",
      "        TF  sourceDatabase\n",
      "id                        \n",
      "233518   0               0\n",
      "233519   1               0\n",
      "233520   2               0\n",
      "233521   3               0\n",
      "233522   4               0\n",
      "torch.Size([519, 2])\n",
      "--------------------------------\n"
     ]
    },
    {
     "name": "stderr",
     "output_type": "stream",
     "text": [
      "/Users/lib/anaconda3/envs/gnn_playground/lib/python3.12/site-packages/gqlalchemy/models.py:349: GQLAlchemySubclassNotFoundWarning: ({'Symptom'}, <class 'gqlalchemy.models.Node'>)\n",
      "  warnings.warn(GQLAlchemySubclassNotFoundWarning(types, cls))\n",
      "/Users/lib/anaconda3/envs/gnn_playground/lib/python3.12/site-packages/gqlalchemy/models.py:349: GQLAlchemySubclassNotFoundWarning: ({'TranscriptionFactor'}, <class 'gqlalchemy.models.Node'>)\n",
      "  warnings.warn(GQLAlchemySubclassNotFoundWarning(types, cls))\n"
     ]
    }
   ],
   "source": [
    "#drug_feat, unique_drug_id = get_node_feature('Drug')\n",
    "#disease_feat, unique_disease_id = get_node_feature('Disease')\n",
    "\n",
    "labels = ['BiologicalProcess', 'BodyPart', 'CellularComponent', 'Disease', 'Drug'\n",
    "          , 'DrugClass', 'Gene', 'MolecularFunction', 'Pathway', 'Symptom', 'TranscriptionFactor']  \n",
    "\n",
    "for label in labels:\n",
    "    variable_name = f\"{label.lower()}_feat\"\n",
    "    variable_name2 = f\"unique_{label.lower()}_id\"\n",
    "    feature, unique_id = get_node_feature(label)\n",
    "    globals()[variable_name] = feature\n",
    "    globals()[variable_name2] = unique_id"
   ]
  },
  {
   "cell_type": "code",
   "execution_count": 12,
   "metadata": {},
   "outputs": [
    {
     "name": "stdout",
     "output_type": "stream",
     "text": [
      "shape of drug class feature = torch.Size([474, 3])\n",
      "number of drug class = 474\n"
     ]
    }
   ],
   "source": [
    "print(f'shape of drug class feature = {drugclass_feat.shape}')\n",
    "print(f'number of drug class = {len(unique_drugclass_id)}')"
   ]
  },
  {
   "cell_type": "markdown",
   "metadata": {},
   "source": [
    "### Edge Index"
   ]
  },
  {
   "cell_type": "code",
   "execution_count": 16,
   "metadata": {},
   "outputs": [
    {
     "data": {
      "text/html": [
       "<div>\n",
       "<style scoped>\n",
       "    .dataframe tbody tr th:only-of-type {\n",
       "        vertical-align: middle;\n",
       "    }\n",
       "\n",
       "    .dataframe tbody tr th {\n",
       "        vertical-align: top;\n",
       "    }\n",
       "\n",
       "    .dataframe thead th {\n",
       "        text-align: right;\n",
       "    }\n",
       "</style>\n",
       "<table border=\"1\" class=\"dataframe\">\n",
       "  <thead>\n",
       "    <tr style=\"text-align: right;\">\n",
       "      <th></th>\n",
       "      <th>source</th>\n",
       "      <th>target</th>\n",
       "      <th>type</th>\n",
       "    </tr>\n",
       "  </thead>\n",
       "  <tbody>\n",
       "    <tr>\n",
       "      <th>0</th>\n",
       "      <td>233591</td>\n",
       "      <td>17276</td>\n",
       "      <td>TRANSCRIPTIONFACTORINTERACTSWITHGENE</td>\n",
       "    </tr>\n",
       "    <tr>\n",
       "      <th>1</th>\n",
       "      <td>232420</td>\n",
       "      <td>17887</td>\n",
       "      <td>BODYPARTOVEREXPRESSESGENE</td>\n",
       "    </tr>\n",
       "    <tr>\n",
       "      <th>2</th>\n",
       "      <td>232932</td>\n",
       "      <td>17887</td>\n",
       "      <td>BODYPARTOVEREXPRESSESGENE</td>\n",
       "    </tr>\n",
       "    <tr>\n",
       "      <th>3</th>\n",
       "      <td>232371</td>\n",
       "      <td>18695</td>\n",
       "      <td>BODYPARTOVEREXPRESSESGENE</td>\n",
       "    </tr>\n",
       "    <tr>\n",
       "      <th>4</th>\n",
       "      <td>232411</td>\n",
       "      <td>18695</td>\n",
       "      <td>BODYPARTUNDEREXPRESSESGENE</td>\n",
       "    </tr>\n",
       "    <tr>\n",
       "      <th>...</th>\n",
       "      <td>...</td>\n",
       "      <td>...</td>\n",
       "      <td>...</td>\n",
       "    </tr>\n",
       "    <tr>\n",
       "      <th>1668482</th>\n",
       "      <td>208092</td>\n",
       "      <td>233511</td>\n",
       "      <td>GENEASSOCIATESWITHDISEASE</td>\n",
       "    </tr>\n",
       "    <tr>\n",
       "      <th>1668483</th>\n",
       "      <td>208260</td>\n",
       "      <td>233511</td>\n",
       "      <td>GENEASSOCIATESWITHDISEASE</td>\n",
       "    </tr>\n",
       "    <tr>\n",
       "      <th>1668484</th>\n",
       "      <td>208709</td>\n",
       "      <td>233511</td>\n",
       "      <td>GENEASSOCIATESWITHDISEASE</td>\n",
       "    </tr>\n",
       "    <tr>\n",
       "      <th>1668485</th>\n",
       "      <td>208771</td>\n",
       "      <td>233511</td>\n",
       "      <td>GENEASSOCIATESWITHDISEASE</td>\n",
       "    </tr>\n",
       "    <tr>\n",
       "      <th>1668486</th>\n",
       "      <td>200288</td>\n",
       "      <td>233513</td>\n",
       "      <td>GENEASSOCIATESWITHDISEASE</td>\n",
       "    </tr>\n",
       "  </tbody>\n",
       "</table>\n",
       "<p>1668487 rows × 3 columns</p>\n",
       "</div>"
      ],
      "text/plain": [
       "         source  target                                  type\n",
       "0        233591   17276  TRANSCRIPTIONFACTORINTERACTSWITHGENE\n",
       "1        232420   17887             BODYPARTOVEREXPRESSESGENE\n",
       "2        232932   17887             BODYPARTOVEREXPRESSESGENE\n",
       "3        232371   18695             BODYPARTOVEREXPRESSESGENE\n",
       "4        232411   18695            BODYPARTUNDEREXPRESSESGENE\n",
       "...         ...     ...                                   ...\n",
       "1668482  208092  233511             GENEASSOCIATESWITHDISEASE\n",
       "1668483  208260  233511             GENEASSOCIATESWITHDISEASE\n",
       "1668484  208709  233511             GENEASSOCIATESWITHDISEASE\n",
       "1668485  208771  233511             GENEASSOCIATESWITHDISEASE\n",
       "1668486  200288  233513             GENEASSOCIATESWITHDISEASE\n",
       "\n",
       "[1668487 rows x 3 columns]"
      ]
     },
     "execution_count": 16,
     "metadata": {},
     "output_type": "execute_result"
    }
   ],
   "source": [
    "edges = memgraph.execute_and_fetch(\"MATCH (n)-[r]->(m) RETURN id(n) as source, id(m) as target, type(r) as type\")\n",
    "df_edges = pd.DataFrame(edges)\n",
    "df_edges"
   ]
  },
  {
   "cell_type": "code",
   "execution_count": 17,
   "metadata": {},
   "outputs": [
    {
     "data": {
      "text/plain": [
       "array(['TRANSCRIPTIONFACTORINTERACTSWITHGENE',\n",
       "       'BODYPARTOVEREXPRESSESGENE', 'BODYPARTUNDEREXPRESSESGENE',\n",
       "       'CHEMICALBINDSGENE', 'CHEMICALINCREASESEXPRESSION',\n",
       "       'CHEMICALDECREASESEXPRESSION', 'GENEREGULATESGENE',\n",
       "       'GENEINTERACTSWITHGENE', 'GENECOVARIESWITHGENE',\n",
       "       'GENEPARTICIPATESINBIOLOGICALPROCESS', 'GENEINPATHWAY',\n",
       "       'GENEHASMOLECULARFUNCTION', 'GENEASSOCIATEDWITHCELLULARCOMPONENT',\n",
       "       'DISEASELOCALIZESTOANATOMY', 'DRUGINCLASS',\n",
       "       'GENEASSOCIATESWITHDISEASE', 'DRUGTREATSDISEASE',\n",
       "       'DRUGCAUSESEFFECT', 'SYMPTOMMANIFESTATIONOFDISEASE'], dtype=object)"
      ]
     },
     "execution_count": 17,
     "metadata": {},
     "output_type": "execute_result"
    }
   ],
   "source": [
    "df_edges['type'].unique()"
   ]
  },
  {
   "cell_type": "code",
   "execution_count": 58,
   "metadata": {},
   "outputs": [
    {
     "data": {
      "text/plain": [
       "'\\nedge_index =df_edges[df_edges[\\'type\\']==\\'DRUGTREATSDISEASE\\']\\nunique_drug_id = edge_index[\\'source\\'].unique()\\nunique_drug_id = pd.DataFrame(data={\\n    \\'drugId\\': unique_drug_id,\\n    \\'mappedID\\': pd.RangeIndex(len(unique_drug_id)),\\n})\\nprint(\"Mapping of drug IDs to consecutive values:\")\\nprint(\"==========================================\")\\nprint(unique_drug_id.head())\\nprint()\\n'"
      ]
     },
     "execution_count": 58,
     "metadata": {},
     "output_type": "execute_result"
    }
   ],
   "source": [
    "# Create a mapping from unique node indices to range [0, num_user_nodes):\n",
    "\"\"\"\n",
    "edge_index =df_edges[df_edges['type']=='DRUGTREATSDISEASE']\n",
    "unique_drug_id = edge_index['source'].unique()\n",
    "unique_drug_id = pd.DataFrame(data={\n",
    "    'drugId': unique_drug_id,\n",
    "    'mappedID': pd.RangeIndex(len(unique_drug_id)),\n",
    "})\n",
    "print(\"Mapping of drug IDs to consecutive values:\")\n",
    "print(\"==========================================\")\n",
    "print(unique_drug_id.head())\n",
    "print()\n",
    "\"\"\""
   ]
  },
  {
   "cell_type": "code",
   "execution_count": 18,
   "metadata": {
    "colab": {
     "base_uri": "https://localhost:8080/"
    },
    "id": "JMGYv83WzSRr",
    "outputId": "35e859ca-75cb-407e-9a7c-b0d4b7b76fbb"
   },
   "outputs": [
    {
     "name": "stdout",
     "output_type": "stream",
     "text": [
      "tensor([[ 4255,  6564,  7842,  8196, 10310, 13241, 13670, 13719, 14129],\n",
      "        [   24,    24,    24,    24,    24,    24,    24,    24,    24]])\n",
      "torch.Size([2, 9])\n",
      "---------------------------\n",
      "tensor([[149728, 166552, 166552,  ..., 192128, 192190, 183707],\n",
      "        [     1,      3,      4,  ...,     27,     27,     29]])\n",
      "torch.Size([2, 508])\n",
      "---------------------------\n",
      "tensor([[  5435,   6027,   6094,  ...,  15950,  15954,  15957],\n",
      "        [149507, 149508, 149508,  ..., 193277, 193277, 193277]])\n",
      "torch.Size([2, 18713])\n",
      "---------------------------\n",
      "tensor([[ 16022,  11878,  10312,  ...,   7661,  12376,  12797],\n",
      "        [149507, 149512, 149517,  ..., 193268, 193268, 193268]])\n",
      "torch.Size([2, 21051])\n",
      "---------------------------\n",
      "tensor([[  3905,   4551,   6020,  ...,  11580,  15568,   3749],\n",
      "        [  3448,   3448,   3448,  ..., 192384, 192385, 193277]])\n",
      "torch.Size([2, 25726])\n",
      "---------------------------\n"
     ]
    }
   ],
   "source": [
    "def create_edge_index(source, rel_type, target):\n",
    "    df_type = df_edges[df_edges['type']==rel_type]\n",
    "\n",
    "    # Perform merge to obtain the edges:\n",
    "    source_id = pd.merge(df_type['source'], globals()[f\"unique_{source.lower()}_id\"],\n",
    "                                left_on='source', right_on=f'{source}Id', how='left')\n",
    "    #print(source_id.head())\n",
    "    source_id = torch.from_numpy(source_id['mappedID'].values)\n",
    "\n",
    "    target_id = pd.merge(df_type['target'], globals()[f\"unique_{target.lower()}_id\"],\n",
    "                                left_on='target', right_on=f'{target}Id', how='left')\n",
    "    #print(target_id.head())\n",
    "    target_id = torch.from_numpy(target_id['mappedID'].values)\n",
    "\n",
    "    #construct edge_index in COO format\n",
    "    edge_index = torch.stack([source_id, target_id], dim=0)\n",
    "    print(edge_index)\n",
    "    print(edge_index.size())\n",
    "    print('---------------------------')\n",
    "\n",
    "    return edge_index\n",
    "\n",
    "\n",
    "#globals()[f\"edge_index_{rel_type}\"]\n",
    "edge_index_DRUGTREATSDISEASE = create_edge_index('Drug', 'DRUGTREATSDISEASE', 'Disease')\n",
    "edge_index_GENEASSOCIATESWITHDISEASE = create_edge_index('Gene', 'GENEASSOCIATESWITHDISEASE', 'Disease')\n",
    "edge_index_CHEMICALINCREASESEXPRESSION = create_edge_index('Drug', 'CHEMICALINCREASESEXPRESSION', 'Gene')\n",
    "edge_index_CHEMICALDECREASESEXPRESSION = create_edge_index('Drug', 'CHEMICALDECREASESEXPRESSION', 'Gene')\n",
    "edge_index_CHEMICALBINDSGENE = create_edge_index('Drug', 'CHEMICALBINDSGENE', 'Gene')"
   ]
  },
  {
   "cell_type": "markdown",
   "metadata": {
    "id": "9w9fCnjvqmd2"
   },
   "source": [
    "### Initialize `HeteroData` object and pass the necessary information to it.\n",
    "Note that we also pass in a `node_id` vector to each node type in order to reconstruct the original node indices from sampled subgraphs.\n",
    "\n",
    "We also take care of adding reverse edges to the `HeteroData` object.\n",
    "This allows our GNN model to use both directions of the edge for message passing:"
   ]
  },
  {
   "cell_type": "code",
   "execution_count": 21,
   "metadata": {},
   "outputs": [],
   "source": [
    "#for var_name in globals():\n",
    "#    print(var_name)"
   ]
  },
  {
   "cell_type": "code",
   "execution_count": 22,
   "metadata": {
    "colab": {
     "base_uri": "https://localhost:8080/"
    },
    "id": "I_63--974srt",
    "outputId": "32fe707d-f9ac-4dca-8c7b-52bbb8ddfa07"
   },
   "outputs": [
    {
     "name": "stderr",
     "output_type": "stream",
     "text": [
      "/opt/anaconda3/lib/python3.9/site-packages/torch_geometric/typing.py:72: UserWarning: An issue occurred while importing 'torch-scatter'. Disabling its usage. Stacktrace: dlopen(/opt/anaconda3/lib/python3.9/site-packages/torch_scatter/_version_cpu.so, 0x0006): Symbol not found: __ZN3c1017RegisterOperatorsD1Ev\n",
      "  Referenced from: <99947679-2853-3CFE-9677-9AD439037D88> /opt/anaconda3/lib/python3.9/site-packages/torch_scatter/_version_cpu.so\n",
      "  Expected in:     <36F46DB8-DB62-3926-8653-E332C34252FB> /opt/anaconda3/lib/python3.9/site-packages/torch/lib/libtorch_cpu.dylib\n",
      "  warnings.warn(f\"An issue occurred while importing 'torch-scatter'. \"\n",
      "/opt/anaconda3/lib/python3.9/site-packages/torch_geometric/typing.py:110: UserWarning: An issue occurred while importing 'torch-sparse'. Disabling its usage. Stacktrace: dlopen(/opt/anaconda3/lib/python3.9/site-packages/torch_sparse/_version_cpu.so, 0x0006): Symbol not found: __ZN3c1017RegisterOperatorsD1Ev\n",
      "  Referenced from: <99F10DE3-301A-311B-8B7F-D998A38D1857> /opt/anaconda3/lib/python3.9/site-packages/torch_sparse/_version_cpu.so\n",
      "  Expected in:     <36F46DB8-DB62-3926-8653-E332C34252FB> /opt/anaconda3/lib/python3.9/site-packages/torch/lib/libtorch_cpu.dylib\n",
      "  warnings.warn(f\"An issue occurred while importing 'torch-sparse'. \"\n"
     ]
    },
    {
     "name": "stdout",
     "output_type": "stream",
     "text": [
      "HeteroData(\n",
      "  Disease={\n",
      "    node_id=[34],\n",
      "    x=[34, 4],\n",
      "  },\n",
      "  Drug={\n",
      "    node_id=[16581],\n",
      "    x=[16581, 4],\n",
      "  },\n",
      "  Gene={\n",
      "    node_id=[193279],\n",
      "    x=[193279, 9],\n",
      "  },\n",
      "  (Drug, DRUGTREATSDISEASE, Disease)={ edge_index=[2, 9] },\n",
      "  (Gene, GENEASSOCIATESWITHDISEASE, Disease)={ edge_index=[2, 508] },\n",
      "  (Drug, CHEMICALINCREASESEXPRESSION, Gene)={ edge_index=[2, 18713] },\n",
      "  (Drug, CHEMICALDECREASESEXPRESSION, Gene)={ edge_index=[2, 21051] },\n",
      "  (Drug, CHEMICALBINDSGENE, Gene)={ edge_index=[2, 25726] },\n",
      "  (Disease, rev_DRUGTREATSDISEASE, Drug)={ edge_index=[2, 9] },\n",
      "  (Disease, rev_GENEASSOCIATESWITHDISEASE, Gene)={ edge_index=[2, 508] },\n",
      "  (Gene, rev_CHEMICALINCREASESEXPRESSION, Drug)={ edge_index=[2, 18713] },\n",
      "  (Gene, rev_CHEMICALDECREASESEXPRESSION, Drug)={ edge_index=[2, 21051] },\n",
      "  (Gene, rev_CHEMICALBINDSGENE, Drug)={ edge_index=[2, 25726] }\n",
      ")\n"
     ]
    }
   ],
   "source": [
    "from torch_geometric.data import HeteroData\n",
    "import torch_geometric.transforms as T\n",
    "from torch_geometric.transforms import AddSelfLoops\n",
    "from torch_geometric.transforms import ToUndirected\n",
    "\n",
    "data = HeteroData()\n",
    "\n",
    "# Save node indices and node features:\n",
    "nodes = ['Disease', 'Drug', 'Gene']  \n",
    "for node in nodes:\n",
    "    data[node].node_id = torch.arange(len(globals()[f\"unique_{node.lower()}_id\"]))\n",
    "    data[node].x = globals()[f\"{node.lower()}_feat\"]\n",
    "\n",
    "# Add edge indices:\n",
    "data['Drug', 'DRUGTREATSDISEASE', 'Disease'].edge_index = edge_index_DRUGTREATSDISEASE\n",
    "data['Gene', 'GENEASSOCIATESWITHDISEASE', 'Disease'].edge_index = edge_index_GENEASSOCIATESWITHDISEASE\n",
    "data['Drug', 'CHEMICALINCREASESEXPRESSION', 'Gene'].edge_index = edge_index_CHEMICALINCREASESEXPRESSION \n",
    "data['Drug', 'CHEMICALDECREASESEXPRESSION', 'Gene'].edge_index = edge_index_CHEMICALDECREASESEXPRESSION \n",
    "data['Drug', 'CHEMICALBINDSGENE', 'Gene'].edge_index = edge_index_CHEMICALBINDSGENE\n",
    "\n",
    "# We may also need to make sure to add the reverse edges in order to let a GNN be able to pass messages in both directions.\n",
    "# We can leverage the `T.ToUndirected()` transform for this from PyG:\n",
    "transform = ToUndirected()\n",
    "data = transform(data)\n",
    "\n",
    "print(data)\n",
    "\n",
    "assert data.node_types == ['Disease', 'Drug', 'Gene']  \n",
    "#assert data.edge_types == [('Drug', 'DRUGTREATSDISEASE', 'Disease'),\n",
    "#                           ('Gene', 'GENEASSOCIATESWITHDISEASE', 'Disease'),\n",
    "#                           ('Drug', 'CHEMICALINCREASESEXPRESSION', 'Gene'),\n",
    "#                           ('Drug', 'CHEMICALDECREASESEXPRESSION', 'Gene'),\n",
    "#                           ('Drug', 'CHEMICALBINDSGENE', 'Gene')]\n",
    "assert data[\"Disease\"].num_nodes == 34\n",
    "assert data[\"Drug\"].num_features == 4\n",
    "assert data[\"Gene\"].num_nodes == 193279\n",
    "assert data['Drug', 'DRUGTREATSDISEASE', 'Disease'].num_edges == 9\n",
    "assert data['Gene', 'GENEASSOCIATESWITHDISEASE', 'Disease'].num_edges == 508"
   ]
  },
  {
   "cell_type": "markdown",
   "metadata": {},
   "source": [
    "### Save HeteroData"
   ]
  },
  {
   "cell_type": "code",
   "execution_count": null,
   "metadata": {},
   "outputs": [],
   "source": [
    "import os\n",
    "\n",
    "path =''\n",
    "torch.save(data, os.path.join(path,'hetero_graph.pt'))"
   ]
  },
  {
   "cell_type": "markdown",
   "metadata": {
    "id": "uj7biOtatAmG"
   },
   "source": [
    "## Heterogeneous Link-level GNN\n",
    "\n",
    "We are now ready to create our heterogeneous GNN.\n",
    "The GNN is responsible for learning enriched node representations from the surrounding subgraphs, which can be then used to derive edge-level predictions.\n",
    "For defining our heterogenous GNN, we make use of [`nn.SAGEConv`](https://pytorch-geometric.readthedocs.io/en/latest/modules/nn.html#torch_geometric.nn.conv.SAGEConv) and the [`nn.to_hetero()`](https://pytorch-geometric.readthedocs.io/en/latest/modules/nn.html#torch_geometric.nn.to_hetero_transformer.to_hetero) function, which transforms a GNN defined on homogeneous graphs to be applied on heterogeneous ones.\n",
    "\n",
    "In addition, we define a final link-level classifier, which simply takes both node embeddings of the link we are trying to predict, and applies a dot-product on them.\n",
    "\n",
    "As users do not have any node-level information, we choose to learn their features jointly via a `torch.nn.Embedding` layer. In order to improve the expressiveness of movie features, we do the same for movie nodes, and simply add their shallow embeddings to the pre-defined genre features."
   ]
  },
  {
   "cell_type": "markdown",
   "metadata": {},
   "source": [
    "### Load HeteroData"
   ]
  },
  {
   "cell_type": "code",
   "execution_count": null,
   "metadata": {},
   "outputs": [
    {
     "data": {
      "text/plain": [
       "HeteroData(\n",
       "  Disease={\n",
       "    node_id=[34],\n",
       "    x=[34, 4],\n",
       "  },\n",
       "  Drug={\n",
       "    node_id=[16581],\n",
       "    x=[16581, 4],\n",
       "  },\n",
       "  Gene={\n",
       "    node_id=[193279],\n",
       "    x=[193279, 9],\n",
       "  },\n",
       "  (Drug, DRUGTREATSDISEASE, Disease)={ edge_index=[2, 9] },\n",
       "  (Gene, GENEASSOCIATESWITHDISEASE, Disease)={ edge_index=[2, 508] },\n",
       "  (Drug, CHEMICALINCREASESEXPRESSION, Gene)={ edge_index=[2, 18713] },\n",
       "  (Drug, CHEMICALDECREASESEXPRESSION, Gene)={ edge_index=[2, 21051] },\n",
       "  (Drug, CHEMICALBINDSGENE, Gene)={ edge_index=[2, 25726] },\n",
       "  (Disease, rev_DRUGTREATSDISEASE, Drug)={ edge_index=[2, 9] },\n",
       "  (Disease, rev_GENEASSOCIATESWITHDISEASE, Gene)={ edge_index=[2, 508] },\n",
       "  (Gene, rev_CHEMICALINCREASESEXPRESSION, Drug)={ edge_index=[2, 18713] },\n",
       "  (Gene, rev_CHEMICALDECREASESEXPRESSION, Drug)={ edge_index=[2, 21051] },\n",
       "  (Gene, rev_CHEMICALBINDSGENE, Drug)={ edge_index=[2, 25726] }\n",
       ")"
      ]
     },
     "execution_count": 12,
     "metadata": {},
     "output_type": "execute_result"
    }
   ],
   "source": [
    "import os\n",
    "import torch\n",
    "\n",
    "#path =''\n",
    "\n",
    "data = torch.load(os.path.join(path,'hetero_graph.pt'))\n",
    "data"
   ]
  },
  {
   "cell_type": "code",
   "execution_count": 19,
   "metadata": {},
   "outputs": [
    {
     "data": {
      "text/plain": [
       "(['Disease', 'Drug', 'Gene'],\n",
       " [('Drug', 'DRUGTREATSDISEASE', 'Disease'),\n",
       "  ('Gene', 'GENEASSOCIATESWITHDISEASE', 'Disease'),\n",
       "  ('Drug', 'CHEMICALINCREASESEXPRESSION', 'Gene'),\n",
       "  ('Drug', 'CHEMICALDECREASESEXPRESSION', 'Gene'),\n",
       "  ('Drug', 'CHEMICALBINDSGENE', 'Gene'),\n",
       "  ('Disease', 'rev_DRUGTREATSDISEASE', 'Drug'),\n",
       "  ('Disease', 'rev_GENEASSOCIATESWITHDISEASE', 'Gene'),\n",
       "  ('Gene', 'rev_CHEMICALINCREASESEXPRESSION', 'Drug'),\n",
       "  ('Gene', 'rev_CHEMICALDECREASESEXPRESSION', 'Drug'),\n",
       "  ('Gene', 'rev_CHEMICALBINDSGENE', 'Drug')])"
      ]
     },
     "execution_count": 19,
     "metadata": {},
     "output_type": "execute_result"
    }
   ],
   "source": [
    "data.metadata()"
   ]
  },
  {
   "cell_type": "markdown",
   "metadata": {
    "id": "2QGdkLAurBq9"
   },
   "source": [
    "### Edge-level Training Splits\n",
    "\n",
    "Since our data is now ready-to-be-used, we can split the ratings of users into training, validation, and test splits.\n",
    "This is needed in order to ensure that we leak no information about edges used during evaluation into the training phase.\n",
    "\n",
    "For this, we make use of the [`transforms.RandomLinkSplit`](https://pytorch-geometric.readthedocs.io/en/latest/modules/transforms.html#torch_geometric.transforms.RandomLinkSplit) transformation from PyG.\n",
    "This transforms randomly divides the edges in the `(\"drug\", \"DRUGTREATSDISEASE\", \"Disease\")` into training, validation and test edges.\n",
    "The `disjoint_train_ratio` parameter further separates edges in the training split into edges used for message passing (`edge_index`) and edges used for supervision (`edge_label_index`).\n",
    "\n",
    "\n",
    "Note that we may also need to specify the reverse edge type `(\"movie\", \"rev_rates\", \"user\")`.\n",
    "This allows the `RandomLinkSplit` transform to drop reverse edges accordingly to not leak any information into the training phase."
   ]
  },
  {
   "cell_type": "code",
   "execution_count": 23,
   "metadata": {
    "id": "rwgNwoa26Eja"
   },
   "outputs": [
    {
     "name": "stdout",
     "output_type": "stream",
     "text": [
      "Training data:\n",
      "==============\n",
      "HeteroData(\n",
      "  Disease={\n",
      "    node_id=[34],\n",
      "    x=[34, 4],\n",
      "  },\n",
      "  Drug={\n",
      "    node_id=[16581],\n",
      "    x=[16581, 4],\n",
      "  },\n",
      "  Gene={\n",
      "    node_id=[193279],\n",
      "    x=[193279, 9],\n",
      "  },\n",
      "  (Drug, DRUGTREATSDISEASE, Disease)={\n",
      "    edge_index=[2, 7],\n",
      "    edge_label=[147],\n",
      "    edge_label_index=[2, 147],\n",
      "  },\n",
      "  (Gene, GENEASSOCIATESWITHDISEASE, Disease)={ edge_index=[2, 508] },\n",
      "  (Drug, CHEMICALINCREASESEXPRESSION, Gene)={ edge_index=[2, 18713] },\n",
      "  (Drug, CHEMICALDECREASESEXPRESSION, Gene)={ edge_index=[2, 21051] },\n",
      "  (Drug, CHEMICALBINDSGENE, Gene)={ edge_index=[2, 25726] },\n",
      "  (Disease, rev_DRUGTREATSDISEASE, Drug)={ edge_index=[2, 7] },\n",
      "  (Disease, rev_GENEASSOCIATESWITHDISEASE, Gene)={ edge_index=[2, 508] },\n",
      "  (Gene, rev_CHEMICALINCREASESEXPRESSION, Drug)={ edge_index=[2, 18713] },\n",
      "  (Gene, rev_CHEMICALDECREASESEXPRESSION, Drug)={ edge_index=[2, 21051] },\n",
      "  (Gene, rev_CHEMICALBINDSGENE, Drug)={ edge_index=[2, 25726] }\n",
      ")\n",
      "\n",
      "Validation data:\n",
      "================\n",
      "HeteroData(\n",
      "  Disease={\n",
      "    node_id=[34],\n",
      "    x=[34, 4],\n",
      "  },\n",
      "  Drug={\n",
      "    node_id=[16581],\n",
      "    x=[16581, 4],\n",
      "  },\n",
      "  Gene={\n",
      "    node_id=[193279],\n",
      "    x=[193279, 9],\n",
      "  },\n",
      "  (Drug, DRUGTREATSDISEASE, Disease)={\n",
      "    edge_index=[2, 7],\n",
      "    edge_label=[21],\n",
      "    edge_label_index=[2, 21],\n",
      "  },\n",
      "  (Gene, GENEASSOCIATESWITHDISEASE, Disease)={ edge_index=[2, 508] },\n",
      "  (Drug, CHEMICALINCREASESEXPRESSION, Gene)={ edge_index=[2, 18713] },\n",
      "  (Drug, CHEMICALDECREASESEXPRESSION, Gene)={ edge_index=[2, 21051] },\n",
      "  (Drug, CHEMICALBINDSGENE, Gene)={ edge_index=[2, 25726] },\n",
      "  (Disease, rev_DRUGTREATSDISEASE, Drug)={ edge_index=[2, 7] },\n",
      "  (Disease, rev_GENEASSOCIATESWITHDISEASE, Gene)={ edge_index=[2, 508] },\n",
      "  (Gene, rev_CHEMICALINCREASESEXPRESSION, Drug)={ edge_index=[2, 18713] },\n",
      "  (Gene, rev_CHEMICALDECREASESEXPRESSION, Drug)={ edge_index=[2, 21051] },\n",
      "  (Gene, rev_CHEMICALBINDSGENE, Drug)={ edge_index=[2, 25726] }\n",
      ")\n",
      "Testing data:\n",
      "==============\n",
      "HeteroData(\n",
      "  Disease={\n",
      "    node_id=[34],\n",
      "    x=[34, 4],\n",
      "  },\n",
      "  Drug={\n",
      "    node_id=[16581],\n",
      "    x=[16581, 4],\n",
      "  },\n",
      "  Gene={\n",
      "    node_id=[193279],\n",
      "    x=[193279, 9],\n",
      "  },\n",
      "  (Drug, DRUGTREATSDISEASE, Disease)={\n",
      "    edge_index=[2, 8],\n",
      "    edge_label=[21],\n",
      "    edge_label_index=[2, 21],\n",
      "  },\n",
      "  (Gene, GENEASSOCIATESWITHDISEASE, Disease)={ edge_index=[2, 508] },\n",
      "  (Drug, CHEMICALINCREASESEXPRESSION, Gene)={ edge_index=[2, 18713] },\n",
      "  (Drug, CHEMICALDECREASESEXPRESSION, Gene)={ edge_index=[2, 21051] },\n",
      "  (Drug, CHEMICALBINDSGENE, Gene)={ edge_index=[2, 25726] },\n",
      "  (Disease, rev_DRUGTREATSDISEASE, Drug)={ edge_index=[2, 8] },\n",
      "  (Disease, rev_GENEASSOCIATESWITHDISEASE, Gene)={ edge_index=[2, 508] },\n",
      "  (Gene, rev_CHEMICALINCREASESEXPRESSION, Drug)={ edge_index=[2, 18713] },\n",
      "  (Gene, rev_CHEMICALDECREASESEXPRESSION, Drug)={ edge_index=[2, 21051] },\n",
      "  (Gene, rev_CHEMICALBINDSGENE, Drug)={ edge_index=[2, 25726] }\n",
      ")\n",
      "\n"
     ]
    }
   ],
   "source": [
    "transform = T.RandomLinkSplit(\n",
    "    num_val=0.2,  \n",
    "    num_test=0.2,  \n",
    "    #disjoint_train_ratio=...,  \n",
    "    neg_sampling_ratio=20,  \n",
    "    #add_negative_train_samples=False,   #default true\n",
    "    edge_types=('Drug', 'DRUGTREATSDISEASE', 'Disease'),\n",
    "    rev_edge_types=(\"Disease\", \"rev_DRUGTREATSDISEASE\", \"Drug\"),\n",
    ")\n",
    "\n",
    "train_data, val_data, test_data = transform(data)\n",
    "print(\"Training data:\")\n",
    "print(\"==============\")\n",
    "print(train_data)\n",
    "print()\n",
    "print(\"Validation data:\")\n",
    "print(\"================\")\n",
    "print(val_data)\n",
    "print(\"Testing data:\")\n",
    "print(\"==============\")\n",
    "print(test_data)\n",
    "print()"
   ]
  },
  {
   "cell_type": "code",
   "execution_count": 24,
   "metadata": {},
   "outputs": [
    {
     "data": {
      "text/plain": [
       "{'edge_index': tensor([[ 4255,  6564,  7842,  8196, 10310, 13241, 13670, 13719, 14129],\n",
       "        [   24,    24,    24,    24,    24,    24,    24,    24,    24]])}"
      ]
     },
     "execution_count": 24,
     "metadata": {},
     "output_type": "execute_result"
    }
   ],
   "source": [
    "data['Drug', 'DRUGTREATSDISEASE', 'Disease']"
   ]
  },
  {
   "cell_type": "code",
   "execution_count": 25,
   "metadata": {},
   "outputs": [
    {
     "data": {
      "text/plain": [
       "{'edge_index': tensor([[ 7842, 13719,  6564, 10310, 13670,  4255, 14129],\n",
       "        [   24,    24,    24,    24,    24,    24,    24]]), 'edge_label': tensor([1., 1., 1., 1., 1., 1., 1., 0., 0., 0., 0., 0., 0., 0., 0., 0., 0., 0.,\n",
       "        0., 0., 0., 0., 0., 0., 0., 0., 0., 0., 0., 0., 0., 0., 0., 0., 0., 0.,\n",
       "        0., 0., 0., 0., 0., 0., 0., 0., 0., 0., 0., 0., 0., 0., 0., 0., 0., 0.,\n",
       "        0., 0., 0., 0., 0., 0., 0., 0., 0., 0., 0., 0., 0., 0., 0., 0., 0., 0.,\n",
       "        0., 0., 0., 0., 0., 0., 0., 0., 0., 0., 0., 0., 0., 0., 0., 0., 0., 0.,\n",
       "        0., 0., 0., 0., 0., 0., 0., 0., 0., 0., 0., 0., 0., 0., 0., 0., 0., 0.,\n",
       "        0., 0., 0., 0., 0., 0., 0., 0., 0., 0., 0., 0., 0., 0., 0., 0., 0., 0.,\n",
       "        0., 0., 0., 0., 0., 0., 0., 0., 0., 0., 0., 0., 0., 0., 0., 0., 0., 0.,\n",
       "        0., 0., 0.]), 'edge_label_index': tensor([[ 7842, 13719,  6564, 10310, 13670,  4255, 14129,  4564, 15252, 12108,\n",
       "          3444,  5076, 13653,  5741,  2293,  7732, 15381, 10370, 15044,  7485,\n",
       "          2258, 12264, 11548,  2145,  2990,  9596,  3090, 10022, 15979,  2989,\n",
       "           366, 10756,   127,  7189, 10241,  7587, 12334,   496, 14818, 12849,\n",
       "          8315, 10924,  7851, 12573,   534,  8737,  2172,  9984,  3616,  4248,\n",
       "          2735,    98,  6702,  7862,  5482,  1133, 12918, 14952,    26,  9317,\n",
       "          4065, 10032, 12516, 14278, 10634, 14371, 10470,   134,  5153,   376,\n",
       "          9512, 13493,  7393, 10096, 12666,  6132,  5239,   127, 12660, 10149,\n",
       "          7850,  3957,  8158,  3159,  5008,  7116, 14733,  6578,  4877,  9815,\n",
       "         15695,  1595,  6273, 12868, 15091,  8155,  5596, 10718, 10019,  1583,\n",
       "         16261,  9699, 12229, 11102,  2940, 12056,  8978,  4416,  8537, 16101,\n",
       "          5629,  3352,  6002,  4273,  4058, 10905,  3750, 12085,  9753,  5578,\n",
       "         14665,    92,  2190,  1678, 14698, 15818, 11991, 14361, 15346,  7387,\n",
       "         13891,  4403,  8888, 14358,  4886, 11618, 13042, 13886,  1587, 16304,\n",
       "         13907, 15270,  3421,  2526,  9373, 10084,  8983],\n",
       "        [   24,    24,    24,    24,    24,    24,    24,    27,    11,    16,\n",
       "            26,    21,     9,    29,    24,     6,    32,    11,     6,     2,\n",
       "            18,    17,     5,     5,     8,     6,     0,     8,    12,    16,\n",
       "            24,    17,     9,    21,    14,    26,    16,    29,     5,    13,\n",
       "             2,    15,     2,     7,     0,    32,     7,     8,    21,    27,\n",
       "            15,    16,    16,    17,     1,     7,    12,    10,    18,     4,\n",
       "             8,    30,     8,    14,    31,     1,    27,     8,    17,    27,\n",
       "            12,    11,    22,    14,    15,     7,     1,    27,     4,    16,\n",
       "            33,    25,    24,     9,    10,    31,    33,     7,    25,    23,\n",
       "            24,     4,    18,    25,    20,     2,    27,     5,     0,     1,\n",
       "            25,    30,    29,    14,     8,    28,    33,     4,    16,     5,\n",
       "            31,    24,    21,    25,    28,    24,    13,    13,     0,    21,\n",
       "            14,     9,     1,    13,    16,    31,    23,    23,    31,     5,\n",
       "             2,    10,    25,     8,    33,    28,     1,     8,    31,     0,\n",
       "            25,    30,     8,    22,    26,    29,    29]])}"
      ]
     },
     "execution_count": 25,
     "metadata": {},
     "output_type": "execute_result"
    }
   ],
   "source": [
    "train_data['Drug', 'DRUGTREATSDISEASE', 'Disease']"
   ]
  },
  {
   "cell_type": "code",
   "execution_count": 26,
   "metadata": {},
   "outputs": [
    {
     "data": {
      "text/plain": [
       "{'edge_index': tensor([[ 7842, 13719,  6564, 10310, 13670,  4255, 14129],\n",
       "        [   24,    24,    24,    24,    24,    24,    24]]), 'edge_label': tensor([1., 0., 0., 0., 0., 0., 0., 0., 0., 0., 0., 0., 0., 0., 0., 0., 0., 0.,\n",
       "        0., 0., 0.]), 'edge_label_index': tensor([[13241,  7337,  1702,   163, 13215,   979,   575,  2100,  5847,  5857,\n",
       "          8867, 13779,  3181,  8636,  3039, 11022,  7244,  7261,  9122,  6203,\n",
       "         15284],\n",
       "        [   24,     4,     6,    22,    29,    21,    12,    26,    27,    29,\n",
       "             5,    16,    19,    11,    27,    25,    26,     7,    12,    14,\n",
       "            21]])}"
      ]
     },
     "execution_count": 26,
     "metadata": {},
     "output_type": "execute_result"
    }
   ],
   "source": [
    "val_data['Drug', 'DRUGTREATSDISEASE', 'Disease']"
   ]
  },
  {
   "cell_type": "code",
   "execution_count": 27,
   "metadata": {
    "scrolled": true
   },
   "outputs": [
    {
     "data": {
      "text/plain": [
       "{'edge_index': tensor([[ 7842, 13719,  6564, 10310, 13670,  4255, 14129, 13241],\n",
       "        [   24,    24,    24,    24,    24,    24,    24,    24]]), 'edge_label': tensor([1., 0., 0., 0., 0., 0., 0., 0., 0., 0., 0., 0., 0., 0., 0., 0., 0., 0.,\n",
       "        0., 0., 0.]), 'edge_label_index': tensor([[ 8196, 12104, 12413,  5424,  5999, 13711,  2079, 12786, 12513,  1845,\n",
       "         14511, 15384,  4010,  4177, 10710, 12616, 14991,  9194, 10519, 12914,\n",
       "          2537],\n",
       "        [   24,    14,     4,    11,    15,     5,     1,    33,    21,    19,\n",
       "             9,    10,    14,    14,     8,    33,     9,    21,    22,     9,\n",
       "             6]])}"
      ]
     },
     "execution_count": 27,
     "metadata": {},
     "output_type": "execute_result"
    }
   ],
   "source": [
    "test_data['Drug', 'DRUGTREATSDISEASE', 'Disease']"
   ]
  },
  {
   "cell_type": "code",
   "execution_count": 31,
   "metadata": {},
   "outputs": [],
   "source": [
    "\"\"\"\n",
    "assert train_data['Drug', 'DRUGTREATSDISEASE', 'Disease'].num_edges == 8\n",
    "assert train_data['Drug', 'DRUGTREATSDISEASE', 'Disease'].edge_label_index.size(1) == 8\n",
    "\n",
    "# No negative edges added:\n",
    "assert train_data['Drug', 'DRUGTREATSDISEASE', 'Disease'].edge_label.min() == 1\n",
    "assert train_data['Drug', 'DRUGTREATSDISEASE', 'Disease'].edge_label.max() == 1\n",
    "\n",
    "assert val_data['Drug', 'DRUGTREATSDISEASE', 'Disease'].num_edges == 8\n",
    "assert val_data['Drug', 'DRUGTREATSDISEASE', 'Disease'].edge_label_index.size(1) == 0\n",
    "\n",
    "# Negative edges with ratio 2:1:\n",
    "#assert val_data['Drug', 'DRUGTREATSDISEASE', 'Disease'].edge_label.long().bincount().tolist() == [20166, 10083]\n",
    "\"\"\""
   ]
  },
  {
   "cell_type": "code",
   "execution_count": 62,
   "metadata": {},
   "outputs": [
    {
     "data": {
      "text/plain": [
       "HeteroData(\n",
       "  Disease={\n",
       "    node_id=[34],\n",
       "    x=[34, 4],\n",
       "  },\n",
       "  Drug={\n",
       "    node_id=[16581],\n",
       "    x=[16581, 4],\n",
       "  },\n",
       "  Gene={\n",
       "    node_id=[193279],\n",
       "    x=[193279, 9],\n",
       "  },\n",
       "  (Drug, DRUGTREATSDISEASE, Disease)={\n",
       "    edge_index=[2, 7],\n",
       "    edge_label=[147],\n",
       "    edge_label_index=[2, 147],\n",
       "  },\n",
       "  (Gene, GENEASSOCIATESWITHDISEASE, Disease)={ edge_index=[2, 508] },\n",
       "  (Drug, CHEMICALINCREASESEXPRESSION, Gene)={ edge_index=[2, 18713] },\n",
       "  (Drug, CHEMICALDECREASESEXPRESSION, Gene)={ edge_index=[2, 21051] },\n",
       "  (Drug, CHEMICALBINDSGENE, Gene)={ edge_index=[2, 25726] },\n",
       "  (Disease, rev_DRUGTREATSDISEASE, Drug)={ edge_index=[2, 7] },\n",
       "  (Disease, rev_GENEASSOCIATESWITHDISEASE, Gene)={ edge_index=[2, 508] },\n",
       "  (Gene, rev_CHEMICALINCREASESEXPRESSION, Drug)={ edge_index=[2, 18713] },\n",
       "  (Gene, rev_CHEMICALDECREASESEXPRESSION, Drug)={ edge_index=[2, 21051] },\n",
       "  (Gene, rev_CHEMICALBINDSGENE, Drug)={ edge_index=[2, 25726] }\n",
       ")"
      ]
     },
     "execution_count": 62,
     "metadata": {},
     "output_type": "execute_result"
    }
   ],
   "source": [
    "train_data"
   ]
  },
  {
   "cell_type": "code",
   "execution_count": 28,
   "metadata": {},
   "outputs": [],
   "source": [
    "import torch\n",
    "import torch.nn.functional as F\n",
    "from torch_geometric.nn import HeteroConv, SAGEConv, Linear\n",
    "from torch_geometric.transforms import AddSelfLoops\n",
    "\n",
    "class HeteroGNN(torch.nn.Module):\n",
    "    def __init__(self, metadata, hidden_channels):\n",
    "        super().__init__()\n",
    "        # Define convolutional layers for each relationship type in the HeteroData\n",
    "        self.convs = HeteroConv({\n",
    "            ('Drug', 'DRUGTREATSDISEASE', 'Disease'): SAGEConv((-1, -1), hidden_channels),\n",
    "            ('Gene', 'GENEASSOCIATESWITHDISEASE', 'Disease'): SAGEConv((-1, -1), hidden_channels),\n",
    "            ('Drug', 'CHEMICALINCREASESEXPRESSION', 'Gene'): SAGEConv((-1, -1), hidden_channels),\n",
    "            ('Drug', 'CHEMICALDECREASESEXPRESSION', 'Gene'): SAGEConv((-1, -1), hidden_channels),\n",
    "            ('Drug', 'CHEMICALBINDSGENE', 'Gene'): SAGEConv((-1, -1), hidden_channels),\n",
    "            ('Disease', 'rev_DRUGTREATSDISEASE', 'Drug'): SAGEConv((-1, -1), hidden_channels),\n",
    "            ('Disease', 'rev_GENEASSOCIATESWITHDISEASE', 'Gene'): SAGEConv((-1, -1), hidden_channels),\n",
    "            ('Gene', 'rev_CHEMICALINCREASESEXPRESSION', 'Drug'): SAGEConv((-1, -1), hidden_channels),\n",
    "            ('Gene', 'rev_CHEMICALDECREASESEXPRESSION', 'Drug'): SAGEConv((-1, -1), hidden_channels),\n",
    "            ('Gene', 'rev_CHEMICALBINDSGENE', 'Drug'): SAGEConv((-1, -1), hidden_channels),\n",
    "        }, aggr='sum')  # Aggregating results with sum\n",
    "        self.conv = SAGEConv((-1, -1), hidden_channels)\n",
    "        \n",
    "        # Linear layer for link prediction\n",
    "        self.linear = Linear(hidden_channels * 2, 1)\n",
    "\n",
    "    def forward(self, data):\n",
    "        # Apply heterogeneous convolution\n",
    "        x_dict = self.convs(data.x_dict, data.edge_index_dict)\n",
    "        return x_dict\n",
    "\n",
    "    def decode(self, z_dict, edge_label_index):\n",
    "        # Decode the node embeddings to predict the edge\n",
    "        src, dst = z_dict['Drug'][edge_label_index[0]], z_dict['Disease'][edge_label_index[1]]\n",
    "        edge_feat = torch.cat([src, dst], dim=-1)\n",
    "        return self.linear(edge_feat).sigmoid()\n",
    "\n",
    "# Instantiate the model\n",
    "model = HeteroGNN(data.metadata(), hidden_channels=64)"
   ]
  },
  {
   "cell_type": "code",
   "execution_count": 32,
   "metadata": {},
   "outputs": [
    {
     "name": "stdout",
     "output_type": "stream",
     "text": [
      "Epoch 1, Train Loss: 6.122448921203613, Val Loss: 4.761904716491699\n",
      "Epoch 2, Train Loss: 6.122448921203613, Val Loss: 4.761904716491699\n",
      "Epoch 3, Train Loss: 6.122448921203613, Val Loss: 4.761904716491699\n",
      "Epoch 4, Train Loss: 6.122448921203613, Val Loss: 4.761904716491699\n",
      "Epoch 5, Train Loss: 6.122448921203613, Val Loss: 4.761904716491699\n",
      "Epoch 6, Train Loss: 6.122448921203613, Val Loss: 4.761904716491699\n",
      "Epoch 7, Train Loss: 6.122448921203613, Val Loss: 4.761904716491699\n",
      "Epoch 8, Train Loss: 6.122448921203613, Val Loss: 4.761904716491699\n",
      "Epoch 9, Train Loss: 6.122448921203613, Val Loss: 4.761904716491699\n",
      "Epoch 10, Train Loss: 6.122448921203613, Val Loss: 4.761904716491699\n",
      "Epoch 11, Train Loss: 6.122448921203613, Val Loss: 4.761904716491699\n",
      "Early stopping triggered!\n"
     ]
    }
   ],
   "source": [
    "# Define optimizer\n",
    "optimizer = torch.optim.Adam(model.parameters(), lr=0.01)\n",
    "\n",
    "best_val_loss = float('inf')\n",
    "patience, patience_counter = 10, 0  # For early stopping\n",
    "\n",
    "for epoch in range(100):\n",
    "    model.train()\n",
    "    optimizer.zero_grad()\n",
    "\n",
    "    # Forward pass on training data\n",
    "    z_dict = model(train_data)\n",
    "    \n",
    "    # Predict edges for training data\n",
    "    train_pred = model.decode(z_dict, train_data['Drug', 'DRUGTREATSDISEASE', 'Disease'].edge_label_index)\n",
    "    \n",
    "    # Compute the loss on training data\n",
    "    train_loss = F.binary_cross_entropy(train_pred.squeeze(), train_data['Drug', 'DRUGTREATSDISEASE', 'Disease'].edge_label)\n",
    "    \n",
    "    # Backpropagation\n",
    "    train_loss.backward()\n",
    "    optimizer.step()\n",
    "    \n",
    "    # Validation step\n",
    "    model.eval()\n",
    "    with torch.no_grad():\n",
    "        z_dict = model(val_data)\n",
    "        val_pred = model.decode(z_dict, val_data['Drug', 'DRUGTREATSDISEASE', 'Disease'].edge_label_index)\n",
    "        val_loss = F.binary_cross_entropy(val_pred.squeeze(), val_data['Drug', 'DRUGTREATSDISEASE', 'Disease'].edge_label)\n",
    "    \n",
    "    print(f'Epoch {epoch+1}, Train Loss: {train_loss.item()}, Val Loss: {val_loss.item()}')\n",
    "\n",
    "    # Early stopping check\n",
    "    if val_loss < best_val_loss:\n",
    "        best_val_loss = val_loss\n",
    "        patience_counter = 0\n",
    "        #torch.save(model.state_dict(), os.path.join(path,'HeteroGNN_best_model.pth'))  # Save the best model\n",
    "    else:\n",
    "        patience_counter += 1\n",
    "        if patience_counter >= patience:\n",
    "            print(\"Early stopping triggered!\")\n",
    "            break"
   ]
  },
  {
   "cell_type": "code",
   "execution_count": 33,
   "metadata": {},
   "outputs": [
    {
     "data": {
      "text/plain": [
       "tensor([1., 1., 1., 1., 1., 1., 1., 0., 0., 0., 0., 0., 0., 0., 0., 0., 0., 0.,\n",
       "        0., 0., 0., 0., 0., 0., 0., 0., 0., 0., 0., 0., 0., 0., 0., 0., 0., 0.,\n",
       "        0., 0., 0., 0., 0., 0., 0., 0., 0., 0., 0., 0., 0., 0., 0., 0., 0., 0.,\n",
       "        0., 0., 0., 0., 0., 0., 0., 0., 0., 0., 0., 0., 0., 0., 0., 0., 0., 0.,\n",
       "        0., 0., 0., 0., 0., 0., 0., 0., 0., 0., 0., 0., 0., 0., 0., 0., 0., 0.,\n",
       "        0., 0., 0., 0., 0., 0., 0., 0., 0., 0., 0., 0., 0., 0., 0., 0., 0., 0.,\n",
       "        0., 0., 0., 0., 0., 0., 0., 0., 0., 0., 0., 0., 0., 0., 0., 0., 0., 0.,\n",
       "        0., 0., 0., 0., 0., 0., 0., 0., 0., 0., 0., 0., 0., 0., 0., 0., 0., 0.,\n",
       "        0., 0., 0.])"
      ]
     },
     "execution_count": 33,
     "metadata": {},
     "output_type": "execute_result"
    }
   ],
   "source": [
    "train_data['Drug', 'DRUGTREATSDISEASE', 'Disease'].edge_label"
   ]
  },
  {
   "cell_type": "code",
   "execution_count": 34,
   "metadata": {},
   "outputs": [
    {
     "data": {
      "text/plain": [
       "tensor([0., 0., 0., 0., 0., 0., 0., 0., 0., 0., 0., 0., 0., 0., 0., 0., 0., 0.,\n",
       "        0., 0., 0., 0., 0., 0., 0., 0., 0., 0., 0., 0., 0., 0., 0., 0., 0., 0.,\n",
       "        0., 0., 0., 0., 0., 0., 0., 0., 0., 0., 0., 0., 0., 0., 0., 0., 0., 0.,\n",
       "        0., 0., 0., 0., 0., 0., 0., 0., 0., 0., 0., 0., 0., 0., 0., 0., 0., 0.,\n",
       "        0., 0., 0., 0., 1., 0., 0., 0., 0., 0., 0., 0., 0., 0., 0., 1., 0., 0.,\n",
       "        0., 0., 0., 0., 0., 0., 0., 0., 0., 0., 0., 0., 0., 0., 0., 0., 0., 0.,\n",
       "        0., 0., 0., 0., 0., 0., 0., 0., 0., 0., 0., 0., 0., 0., 0., 0., 0., 0.,\n",
       "        0., 0., 0., 0., 0., 0., 0., 0., 0., 0., 0., 0., 0., 0., 0., 0., 0., 0.,\n",
       "        0., 0., 0.], grad_fn=<SqueezeBackward0>)"
      ]
     },
     "execution_count": 34,
     "metadata": {},
     "output_type": "execute_result"
    }
   ],
   "source": [
    "train_pred.squeeze()"
   ]
  },
  {
   "cell_type": "code",
   "execution_count": 35,
   "metadata": {},
   "outputs": [
    {
     "data": {
      "text/plain": [
       "tensor([1., 0., 0., 0., 0., 0., 0., 0., 0., 0., 0., 0., 0., 0., 0., 0., 0., 0.,\n",
       "        0., 0., 0.])"
      ]
     },
     "execution_count": 35,
     "metadata": {},
     "output_type": "execute_result"
    }
   ],
   "source": [
    "val_data['Drug', 'DRUGTREATSDISEASE', 'Disease'].edge_label"
   ]
  },
  {
   "cell_type": "code",
   "execution_count": 36,
   "metadata": {},
   "outputs": [
    {
     "data": {
      "text/plain": [
       "tensor([[ 7842, 13719,  6564, 10310, 13670,  4255, 14129],\n",
       "        [   24,    24,    24,    24,    24,    24,    24]])"
      ]
     },
     "execution_count": 36,
     "metadata": {},
     "output_type": "execute_result"
    }
   ],
   "source": [
    "val_data['Drug', 'DRUGTREATSDISEASE', 'Disease'].edge_index"
   ]
  },
  {
   "cell_type": "code",
   "execution_count": 37,
   "metadata": {},
   "outputs": [
    {
     "name": "stdout",
     "output_type": "stream",
     "text": [
      "tensor([[ 7842, 13719,  6564, 10310, 13670,  4255, 14129],\n",
      "        [   24,    24,    24,    24,    24,    24,    24]])\n"
     ]
    }
   ],
   "source": [
    "print(train_data['Drug', 'DRUGTREATSDISEASE', 'Disease'].edge_index) "
   ]
  },
  {
   "cell_type": "code",
   "execution_count": 38,
   "metadata": {},
   "outputs": [
    {
     "data": {
      "text/plain": [
       "{('Drug',\n",
       "  'DRUGTREATSDISEASE',\n",
       "  'Disease'): tensor([[ 7842, 13719,  6564, 10310, 13670,  4255, 14129],\n",
       "         [   24,    24,    24,    24,    24,    24,    24]]),\n",
       " ('Gene',\n",
       "  'GENEASSOCIATESWITHDISEASE',\n",
       "  'Disease'): tensor([[149728, 166552, 166552,  ..., 192128, 192190, 183707],\n",
       "         [     1,      3,      4,  ...,     27,     27,     29]]),\n",
       " ('Drug',\n",
       "  'CHEMICALINCREASESEXPRESSION',\n",
       "  'Gene'): tensor([[  5435,   6027,   6094,  ...,  15950,  15954,  15957],\n",
       "         [149507, 149508, 149508,  ..., 193277, 193277, 193277]]),\n",
       " ('Drug',\n",
       "  'CHEMICALDECREASESEXPRESSION',\n",
       "  'Gene'): tensor([[ 16022,  11878,  10312,  ...,   7661,  12376,  12797],\n",
       "         [149507, 149512, 149517,  ..., 193268, 193268, 193268]]),\n",
       " ('Drug',\n",
       "  'CHEMICALBINDSGENE',\n",
       "  'Gene'): tensor([[  3905,   4551,   6020,  ...,  11580,  15568,   3749],\n",
       "         [  3448,   3448,   3448,  ..., 192384, 192385, 193277]]),\n",
       " ('Disease',\n",
       "  'rev_DRUGTREATSDISEASE',\n",
       "  'Drug'): tensor([[   24,    24,    24,    24,    24,    24,    24],\n",
       "         [ 7842, 13719,  6564, 10310, 13670,  4255, 14129]]),\n",
       " ('Disease',\n",
       "  'rev_GENEASSOCIATESWITHDISEASE',\n",
       "  'Gene'): tensor([[     1,      3,      4,  ...,     27,     27,     29],\n",
       "         [149728, 166552, 166552,  ..., 192128, 192190, 183707]]),\n",
       " ('Gene',\n",
       "  'rev_CHEMICALINCREASESEXPRESSION',\n",
       "  'Drug'): tensor([[149507, 149508, 149508,  ..., 193277, 193277, 193277],\n",
       "         [  5435,   6027,   6094,  ...,  15950,  15954,  15957]]),\n",
       " ('Gene',\n",
       "  'rev_CHEMICALDECREASESEXPRESSION',\n",
       "  'Drug'): tensor([[149507, 149512, 149517,  ..., 193268, 193268, 193268],\n",
       "         [ 16022,  11878,  10312,  ...,   7661,  12376,  12797]]),\n",
       " ('Gene',\n",
       "  'rev_CHEMICALBINDSGENE',\n",
       "  'Drug'): tensor([[  3448,   3448,   3448,  ..., 192384, 192385, 193277],\n",
       "         [  3905,   4551,   6020,  ...,  11580,  15568,   3749]])}"
      ]
     },
     "execution_count": 38,
     "metadata": {},
     "output_type": "execute_result"
    }
   ],
   "source": [
    "train_data.edge_index_dict"
   ]
  },
  {
   "cell_type": "code",
   "execution_count": 39,
   "metadata": {},
   "outputs": [
    {
     "name": "stdout",
     "output_type": "stream",
     "text": [
      "torch.Size([16581, 4])\n"
     ]
    }
   ],
   "source": [
    "print(train_data.x_dict['Drug'].shape)"
   ]
  },
  {
   "cell_type": "code",
   "execution_count": 41,
   "metadata": {},
   "outputs": [
    {
     "name": "stdout",
     "output_type": "stream",
     "text": [
      "Test AUC: 0.5\n"
     ]
    }
   ],
   "source": [
    "from sklearn.metrics import roc_auc_score\n",
    "\n",
    "# Load the best model saved during training\n",
    "#model.load_state_dict(torch.load(os.path.join(path,'HeteroGNN_best_model.pth')))\n",
    "\n",
    "# Evaluate on the test set\n",
    "model.eval()\n",
    "with torch.no_grad():\n",
    "    z_dict = model(test_data)\n",
    "    test_pred = model.decode(z_dict, test_data['Drug', 'DRUGTREATSDISEASE', 'Disease'].edge_label_index)\n",
    "    \n",
    "    # Calculate AUC and other metrics\n",
    "    auc = roc_auc_score(test_data['Drug', 'DRUGTREATSDISEASE', 'Disease'].edge_label.cpu(), test_pred.cpu())\n",
    "    print(f'Test AUC: {auc}')\n"
   ]
  },
  {
   "cell_type": "code",
   "execution_count": 42,
   "metadata": {},
   "outputs": [
    {
     "data": {
      "text/plain": [
       "tensor([1., 0., 0., 0., 0., 0., 0., 0., 0., 0., 0., 0., 0., 0., 0., 0., 0., 0.,\n",
       "        0., 0., 0.])"
      ]
     },
     "execution_count": 42,
     "metadata": {},
     "output_type": "execute_result"
    }
   ],
   "source": [
    "test_data['Drug', 'DRUGTREATSDISEASE', 'Disease'].edge_label"
   ]
  },
  {
   "cell_type": "code",
   "execution_count": 43,
   "metadata": {},
   "outputs": [
    {
     "data": {
      "text/plain": [
       "tensor([0., 0., 0., 0., 0., 0., 0., 0., 0., 0., 0., 0., 0., 0., 0., 0., 0., 0., 0., 0., 0.])"
      ]
     },
     "execution_count": 43,
     "metadata": {},
     "output_type": "execute_result"
    }
   ],
   "source": [
    "test_pred.squeeze()"
   ]
  },
  {
   "cell_type": "markdown",
   "metadata": {},
   "source": [
    "## Graph Attention Networks (GAT)"
   ]
  },
  {
   "cell_type": "markdown",
   "metadata": {},
   "source": [
    "### Load HeteroData"
   ]
  },
  {
   "cell_type": "code",
   "execution_count": null,
   "metadata": {},
   "outputs": [
    {
     "data": {
      "text/plain": [
       "HeteroData(\n",
       "  Disease={\n",
       "    node_id=[34],\n",
       "    x=[34, 4],\n",
       "  },\n",
       "  Drug={\n",
       "    node_id=[16581],\n",
       "    x=[16581, 4],\n",
       "  },\n",
       "  Gene={\n",
       "    node_id=[193279],\n",
       "    x=[193279, 9],\n",
       "  },\n",
       "  (Drug, DRUGTREATSDISEASE, Disease)={ edge_index=[2, 9] },\n",
       "  (Gene, GENEASSOCIATESWITHDISEASE, Disease)={ edge_index=[2, 508] },\n",
       "  (Drug, CHEMICALINCREASESEXPRESSION, Gene)={ edge_index=[2, 18713] },\n",
       "  (Drug, CHEMICALDECREASESEXPRESSION, Gene)={ edge_index=[2, 21051] },\n",
       "  (Drug, CHEMICALBINDSGENE, Gene)={ edge_index=[2, 25726] },\n",
       "  (Disease, rev_DRUGTREATSDISEASE, Drug)={ edge_index=[2, 9] },\n",
       "  (Disease, rev_GENEASSOCIATESWITHDISEASE, Gene)={ edge_index=[2, 508] },\n",
       "  (Gene, rev_CHEMICALINCREASESEXPRESSION, Drug)={ edge_index=[2, 18713] },\n",
       "  (Gene, rev_CHEMICALDECREASESEXPRESSION, Drug)={ edge_index=[2, 21051] },\n",
       "  (Gene, rev_CHEMICALBINDSGENE, Drug)={ edge_index=[2, 25726] }\n",
       ")"
      ]
     },
     "execution_count": 12,
     "metadata": {},
     "output_type": "execute_result"
    }
   ],
   "source": [
    "import os\n",
    "import torch\n",
    "\n",
    "#path =''\n",
    "\n",
    "data = torch.load(os.path.join(path,'hetero_graph.pt'))\n",
    "data"
   ]
  },
  {
   "cell_type": "code",
   "execution_count": 19,
   "metadata": {},
   "outputs": [
    {
     "data": {
      "text/plain": [
       "(['Disease', 'Drug', 'Gene'],\n",
       " [('Drug', 'DRUGTREATSDISEASE', 'Disease'),\n",
       "  ('Gene', 'GENEASSOCIATESWITHDISEASE', 'Disease'),\n",
       "  ('Drug', 'CHEMICALINCREASESEXPRESSION', 'Gene'),\n",
       "  ('Drug', 'CHEMICALDECREASESEXPRESSION', 'Gene'),\n",
       "  ('Drug', 'CHEMICALBINDSGENE', 'Gene'),\n",
       "  ('Disease', 'rev_DRUGTREATSDISEASE', 'Drug'),\n",
       "  ('Disease', 'rev_GENEASSOCIATESWITHDISEASE', 'Gene'),\n",
       "  ('Gene', 'rev_CHEMICALINCREASESEXPRESSION', 'Drug'),\n",
       "  ('Gene', 'rev_CHEMICALDECREASESEXPRESSION', 'Drug'),\n",
       "  ('Gene', 'rev_CHEMICALBINDSGENE', 'Drug')])"
      ]
     },
     "execution_count": 19,
     "metadata": {},
     "output_type": "execute_result"
    }
   ],
   "source": [
    "data.metadata()"
   ]
  },
  {
   "cell_type": "markdown",
   "metadata": {
    "id": "2QGdkLAurBq9"
   },
   "source": [
    "### Edge-level Training Splits"
   ]
  },
  {
   "cell_type": "code",
   "execution_count": 14,
   "metadata": {
    "id": "rwgNwoa26Eja",
    "scrolled": true
   },
   "outputs": [
    {
     "name": "stdout",
     "output_type": "stream",
     "text": [
      "Training data:\n",
      "==============\n",
      "HeteroData(\n",
      "  Disease={\n",
      "    node_id=[34],\n",
      "    x=[34, 4],\n",
      "  },\n",
      "  Drug={\n",
      "    node_id=[16581],\n",
      "    x=[16581, 4],\n",
      "  },\n",
      "  Gene={\n",
      "    node_id=[193279],\n",
      "    x=[193279, 9],\n",
      "  },\n",
      "  (Drug, DRUGTREATSDISEASE, Disease)={\n",
      "    edge_index=[2, 7],\n",
      "    edge_label=[147],\n",
      "    edge_label_index=[2, 147],\n",
      "  },\n",
      "  (Gene, GENEASSOCIATESWITHDISEASE, Disease)={ edge_index=[2, 508] },\n",
      "  (Drug, CHEMICALINCREASESEXPRESSION, Gene)={ edge_index=[2, 18713] },\n",
      "  (Drug, CHEMICALDECREASESEXPRESSION, Gene)={ edge_index=[2, 21051] },\n",
      "  (Drug, CHEMICALBINDSGENE, Gene)={ edge_index=[2, 25726] },\n",
      "  (Disease, rev_DRUGTREATSDISEASE, Drug)={ edge_index=[2, 7] },\n",
      "  (Disease, rev_GENEASSOCIATESWITHDISEASE, Gene)={ edge_index=[2, 508] },\n",
      "  (Gene, rev_CHEMICALINCREASESEXPRESSION, Drug)={ edge_index=[2, 18713] },\n",
      "  (Gene, rev_CHEMICALDECREASESEXPRESSION, Drug)={ edge_index=[2, 21051] },\n",
      "  (Gene, rev_CHEMICALBINDSGENE, Drug)={ edge_index=[2, 25726] }\n",
      ")\n",
      "\n",
      "Validation data:\n",
      "================\n",
      "HeteroData(\n",
      "  Disease={\n",
      "    node_id=[34],\n",
      "    x=[34, 4],\n",
      "  },\n",
      "  Drug={\n",
      "    node_id=[16581],\n",
      "    x=[16581, 4],\n",
      "  },\n",
      "  Gene={\n",
      "    node_id=[193279],\n",
      "    x=[193279, 9],\n",
      "  },\n",
      "  (Drug, DRUGTREATSDISEASE, Disease)={\n",
      "    edge_index=[2, 7],\n",
      "    edge_label=[21],\n",
      "    edge_label_index=[2, 21],\n",
      "  },\n",
      "  (Gene, GENEASSOCIATESWITHDISEASE, Disease)={ edge_index=[2, 508] },\n",
      "  (Drug, CHEMICALINCREASESEXPRESSION, Gene)={ edge_index=[2, 18713] },\n",
      "  (Drug, CHEMICALDECREASESEXPRESSION, Gene)={ edge_index=[2, 21051] },\n",
      "  (Drug, CHEMICALBINDSGENE, Gene)={ edge_index=[2, 25726] },\n",
      "  (Disease, rev_DRUGTREATSDISEASE, Drug)={ edge_index=[2, 7] },\n",
      "  (Disease, rev_GENEASSOCIATESWITHDISEASE, Gene)={ edge_index=[2, 508] },\n",
      "  (Gene, rev_CHEMICALINCREASESEXPRESSION, Drug)={ edge_index=[2, 18713] },\n",
      "  (Gene, rev_CHEMICALDECREASESEXPRESSION, Drug)={ edge_index=[2, 21051] },\n",
      "  (Gene, rev_CHEMICALBINDSGENE, Drug)={ edge_index=[2, 25726] }\n",
      ")\n",
      "Testing data:\n",
      "==============\n",
      "HeteroData(\n",
      "  Disease={\n",
      "    node_id=[34],\n",
      "    x=[34, 4],\n",
      "  },\n",
      "  Drug={\n",
      "    node_id=[16581],\n",
      "    x=[16581, 4],\n",
      "  },\n",
      "  Gene={\n",
      "    node_id=[193279],\n",
      "    x=[193279, 9],\n",
      "  },\n",
      "  (Drug, DRUGTREATSDISEASE, Disease)={\n",
      "    edge_index=[2, 8],\n",
      "    edge_label=[21],\n",
      "    edge_label_index=[2, 21],\n",
      "  },\n",
      "  (Gene, GENEASSOCIATESWITHDISEASE, Disease)={ edge_index=[2, 508] },\n",
      "  (Drug, CHEMICALINCREASESEXPRESSION, Gene)={ edge_index=[2, 18713] },\n",
      "  (Drug, CHEMICALDECREASESEXPRESSION, Gene)={ edge_index=[2, 21051] },\n",
      "  (Drug, CHEMICALBINDSGENE, Gene)={ edge_index=[2, 25726] },\n",
      "  (Disease, rev_DRUGTREATSDISEASE, Drug)={ edge_index=[2, 8] },\n",
      "  (Disease, rev_GENEASSOCIATESWITHDISEASE, Gene)={ edge_index=[2, 508] },\n",
      "  (Gene, rev_CHEMICALINCREASESEXPRESSION, Drug)={ edge_index=[2, 18713] },\n",
      "  (Gene, rev_CHEMICALDECREASESEXPRESSION, Drug)={ edge_index=[2, 21051] },\n",
      "  (Gene, rev_CHEMICALBINDSGENE, Drug)={ edge_index=[2, 25726] }\n",
      ")\n",
      "\n"
     ]
    }
   ],
   "source": [
    "transform = T.RandomLinkSplit(\n",
    "    num_val=0.2,  \n",
    "    num_test=0.2,  \n",
    "    #disjoint_train_ratio=...,  \n",
    "    neg_sampling_ratio=20,  \n",
    "    #add_negative_train_samples=False,   #default true\n",
    "    edge_types=('Drug', 'DRUGTREATSDISEASE', 'Disease'),\n",
    "    rev_edge_types=(\"Disease\", \"rev_DRUGTREATSDISEASE\", \"Drug\"),\n",
    ")\n",
    "\n",
    "train_data, val_data, test_data = transform(data)\n",
    "print(\"Training data:\")\n",
    "print(\"==============\")\n",
    "print(train_data)\n",
    "print()\n",
    "print(\"Validation data:\")\n",
    "print(\"================\")\n",
    "print(val_data)\n",
    "print(\"Testing data:\")\n",
    "print(\"==============\")\n",
    "print(test_data)\n",
    "print()"
   ]
  },
  {
   "cell_type": "markdown",
   "metadata": {},
   "source": [
    "### GAT"
   ]
  },
  {
   "cell_type": "code",
   "execution_count": 44,
   "metadata": {},
   "outputs": [],
   "source": [
    "import torch\n",
    "from torch.nn import Linear\n",
    "from torch_geometric.nn import GATConv, HeteroConv\n",
    "\n",
    "class GATLinkPredictor(torch.nn.Module):\n",
    "    def __init__(self, in_channels, hidden_channels, out_channels):\n",
    "        super(GATLinkPredictor, self).__init__()\n",
    "        self.conv1 = HeteroConv({\n",
    "            ('Drug', 'DRUGTREATSDISEASE', 'Disease'): GATConv(in_channels, hidden_channels, heads=8, concat=False),\n",
    "            ('Gene', 'GENEASSOCIATESWITHDISEASE', 'Disease'): GATConv(in_channels, hidden_channels, heads=8, concat=False),\n",
    "            ('Drug', 'CHEMICALINCREASESEXPRESSION', 'Gene'): GATConv(in_channels, hidden_channels, heads=8, concat=False),\n",
    "            ('Drug', 'CHEMICALDECREASESEXPRESSION', 'Gene'): GATConv(in_channels, hidden_channels, heads=8, concat=False),\n",
    "            ('Drug', 'CHEMICALBINDSGENE', 'Gene'): GATConv(in_channels, hidden_channels, heads=8, concat=False),\n",
    "            ('Disease', 'rev_DRUGTREATSDISEASE', 'Drug'): GATConv(in_channels, hidden_channels, heads=8, concat=False),\n",
    "            ('Disease', 'rev_GENEASSOCIATESWITHDISEASE', 'Gene'): GATConv(in_channels, hidden_channels, heads=8, concat=False),\n",
    "            ('Gene', 'rev_CHEMICALINCREASESEXPRESSION', 'Drug'): GATConv(in_channels, hidden_channels, heads=8, concat=False),\n",
    "            ('Gene', 'rev_CHEMICALDECREASESEXPRESSION', 'Drug'): GATConv(in_channels, hidden_channels, heads=8, concat=False),\n",
    "            ('Gene', 'rev_CHEMICALBINDSGENE', 'Drug'): GATConv(in_channels, hidden_channels, heads=8, concat=False),\n",
    "        }, aggr='mean')\n",
    "        self.conv2 = HeteroConv({\n",
    "            ('Drug', 'DRUGTREATSDISEASE', 'Disease'): GATConv(hidden_channels, hidden_channels, heads=8, concat=False),\n",
    "            ('Gene', 'GENEASSOCIATESWITHDISEASE', 'Disease'): GATConv(in_channels, hidden_channels, heads=8, concat=False),\n",
    "            ('Drug', 'CHEMICALINCREASESEXPRESSION', 'Gene'): GATConv(in_channels, hidden_channels, heads=8, concat=False),\n",
    "            ('Drug', 'CHEMICALDECREASESEXPRESSION', 'Gene'): GATConv(in_channels, hidden_channels, heads=8, concat=False),\n",
    "            ('Drug', 'CHEMICALBINDSGENE', 'Gene'): GATConv(in_channels, hidden_channels, heads=8, concat=False),\n",
    "            ('Disease', 'rev_DRUGTREATSDISEASE', 'Drug'): GATConv(in_channels, hidden_channels, heads=8, concat=False),\n",
    "            ('Disease', 'rev_GENEASSOCIATESWITHDISEASE', 'Gene'): GATConv(in_channels, hidden_channels, heads=8, concat=False),\n",
    "            ('Gene', 'rev_CHEMICALINCREASESEXPRESSION', 'Drug'): GATConv(in_channels, hidden_channels, heads=8, concat=False),\n",
    "            ('Gene', 'rev_CHEMICALDECREASESEXPRESSION', 'Drug'): GATConv(in_channels, hidden_channels, heads=8, concat=False),\n",
    "            ('Gene', 'rev_CHEMICALBINDSGENE', 'Drug'): GATConv(in_channels, hidden_channels, heads=8, concat=False),            \n",
    "        }, aggr='mean')\n",
    "        self.fc = Linear(hidden_channels * 2, out_channels)\n",
    "\n",
    "    def forward(self, x_dict, edge_index_dict):\n",
    "        x_dict = self.conv1(x_dict, edge_index_dict)\n",
    "        x_dict = {key: torch.relu(x) for key, x in x_dict.items()}\n",
    "        x_dict = self.conv2(x_dict, edge_index_dict)\n",
    "        return x_dict\n",
    "\n",
    "    def decode(self, z_dict, edge_label_index):\n",
    "        src_z, dst_z = z_dict['Drug'][edge_label_index[0]], z_dict['Disease'][edge_label_index[1]]\n",
    "        return torch.sigmoid(self.fc(torch.cat([src_z, dst_z], dim=1)))"
   ]
  },
  {
   "cell_type": "code",
   "execution_count": 45,
   "metadata": {},
   "outputs": [],
   "source": [
    "import torch.nn.functional as F\n",
    "from torch_geometric.nn import GATConv, HeteroConv, Linear\n",
    "\n",
    "class HeteroGAT(torch.nn.Module):\n",
    "    def __init__(self, metadata, hidden_channels, out_channels):\n",
    "        super(HeteroGAT, self).__init__()\n",
    "        self.convs = HeteroConv({\n",
    "            ('Drug', 'DRUGTREATSDISEASE', 'Disease'): GATConv((-1, -1), hidden_channels, add_self_loops=False),\n",
    "            ('Gene', 'GENEASSOCIATESWITHDISEASE', 'Disease'): GATConv((-1, -1), hidden_channels, add_self_loops=False),\n",
    "            ('Drug', 'CHEMICALINCREASESEXPRESSION', 'Gene'): GATConv((-1, -1), hidden_channels, add_self_loops=False),\n",
    "            ('Drug', 'CHEMICALDECREASESEXPRESSION', 'Gene'): GATConv((-1, -1), hidden_channels, add_self_loops=False),\n",
    "            ('Drug', 'CHEMICALBINDSGENE', 'Gene'): GATConv((-1, -1), hidden_channels, add_self_loops=False),\n",
    "            ('Disease', 'rev_DRUGTREATSDISEASE', 'Drug'): GATConv((-1, -1), hidden_channels, add_self_loops=False),\n",
    "            ('Disease', 'rev_GENEASSOCIATESWITHDISEASE', 'Gene'): GATConv((-1, -1), hidden_channels, add_self_loops=False),\n",
    "            ('Gene', 'rev_CHEMICALINCREASESEXPRESSION', 'Drug'): GATConv((-1, -1), hidden_channels, add_self_loops=False),\n",
    "            ('Gene', 'rev_CHEMICALDECREASESEXPRESSION', 'Drug'): GATConv((-1, -1), hidden_channels, add_self_loops=False),\n",
    "            ('Gene', 'rev_CHEMICALBINDSGENE', 'Drug'): GATConv((-1, -1), hidden_channels, add_self_loops=False),\n",
    "        }, aggr='sum')\n",
    "        \n",
    "        self.lin = Linear(hidden_channels * 2, out_channels)\n",
    "\n",
    "    def forward(self, x_dict, edge_index_dict):\n",
    "        # Apply HeteroConv layers\n",
    "        x_dict = self.convs(x_dict, edge_index_dict)\n",
    "        return x_dict\n",
    "\n",
    "    def decode(self, z_dict, edge_label_index):\n",
    "        src_z, dst_z = z_dict['Drug'][edge_label_index[0]], z_dict['Disease'][edge_label_index[1]]\n",
    "        return self.lin(torch.cat([src_z, dst_z], dim=-1)).squeeze(-1)\n"
   ]
  },
  {
   "cell_type": "code",
   "execution_count": 47,
   "metadata": {},
   "outputs": [
    {
     "name": "stdout",
     "output_type": "stream",
     "text": [
      "Epoch 1, Train Loss: 807.485107421875, Val Loss: 1687.5162353515625\n",
      "Epoch 2, Train Loss: 650.6926879882812, Val Loss: 1414.9110107421875\n",
      "Epoch 3, Train Loss: 456.26153564453125, Val Loss: 486.6878356933594\n",
      "Epoch 4, Train Loss: 193.6825714111328, Val Loss: 251.7686004638672\n",
      "Epoch 5, Train Loss: 205.13084411621094, Val Loss: 432.7135009765625\n",
      "Epoch 6, Train Loss: 302.5349426269531, Val Loss: 296.48931884765625\n",
      "Epoch 7, Train Loss: 215.1543426513672, Val Loss: 0.15046530961990356\n",
      "Epoch 8, Train Loss: 52.565513610839844, Val Loss: 203.27024841308594\n",
      "Epoch 9, Train Loss: 128.68841552734375, Val Loss: 429.249267578125\n",
      "Epoch 10, Train Loss: 193.04415893554688, Val Loss: 411.8004150390625\n",
      "Epoch 11, Train Loss: 179.84066772460938, Val Loss: 233.8612060546875\n",
      "Epoch 12, Train Loss: 104.82941436767578, Val Loss: 49.87337112426758\n",
      "Epoch 13, Train Loss: 26.638402938842773, Val Loss: 34.20005416870117\n",
      "Epoch 14, Train Loss: 78.2496337890625, Val Loss: 141.28173828125\n",
      "Epoch 15, Train Loss: 127.4286880493164, Val Loss: 84.48359680175781\n",
      "Epoch 16, Train Loss: 94.00055694580078, Val Loss: 0.053875911980867386\n",
      "Epoch 17, Train Loss: 43.16178894042969, Val Loss: 138.2415008544922\n",
      "Epoch 18, Train Loss: 35.914424896240234, Val Loss: 214.86988830566406\n",
      "Epoch 19, Train Loss: 56.43771743774414, Val Loss: 219.75946044921875\n",
      "Epoch 20, Train Loss: 53.539730072021484, Val Loss: 161.91842651367188\n",
      "Epoch 21, Train Loss: 30.5098876953125, Val Loss: 77.08499908447266\n",
      "Epoch 22, Train Loss: 13.584551811218262, Val Loss: 0.03249271586537361\n",
      "Epoch 23, Train Loss: 26.87684440612793, Val Loss: 12.303630828857422\n",
      "Epoch 24, Train Loss: 26.1190242767334, Val Loss: 57.250396728515625\n",
      "Epoch 25, Train Loss: 2.2649528980255127, Val Loss: 94.14832305908203\n",
      "Epoch 26, Train Loss: 3.612337589263916, Val Loss: 95.57112884521484\n",
      "Epoch 27, Train Loss: 1.0934869050979614, Val Loss: 64.91513061523438\n",
      "Epoch 28, Train Loss: 10.722283363342285, Val Loss: 28.52266502380371\n",
      "Epoch 29, Train Loss: 7.045615196228027, Val Loss: 45.52125549316406\n",
      "Epoch 30, Train Loss: 5.968719482421875, Val Loss: 37.38745880126953\n",
      "Epoch 31, Train Loss: 0.5677288770675659, Val Loss: 53.4686279296875\n",
      "Epoch 32, Train Loss: 1.342847228050232, Val Loss: 84.47472381591797\n",
      "Early stopping triggered!\n"
     ]
    }
   ],
   "source": [
    "import torch\n",
    "import torch.nn.functional as F\n",
    "from torch.optim import Adam\n",
    "from torch_geometric.data import Data\n",
    "\n",
    "# Define hyperparameters\n",
    "drug_feature_size = 4\n",
    "in_channels = drug_feature_size  # Assuming feature sizes match\n",
    "hidden_channels = 64\n",
    "out_channels = 1\n",
    "learning_rate = 0.01\n",
    "num_epochs = 100\n",
    "best_val_loss = float('inf')\n",
    "\n",
    "# Initialize model, optimizer, and loss function\n",
    "#model = GATLinkPredictor(in_channels, hidden_channels, out_channels)\n",
    "model = HeteroGAT(metadata=data.metadata(), hidden_channels=64, out_channels=1)\n",
    "optimizer = Adam(model.parameters(), lr=learning_rate)\n",
    "criterion = torch.nn.BCEWithLogitsLoss()\n",
    "\n",
    "# Training loop\n",
    "for epoch in range(num_epochs):\n",
    "    model.train()\n",
    "    optimizer.zero_grad()\n",
    "\n",
    "    z_dict = model(train_data.x_dict, train_data.edge_index_dict) #(train_data)\n",
    "    \n",
    "    # Forward pass and loss calculation\n",
    "    train_pred = model.decode(z_dict, train_data['Drug', 'DRUGTREATSDISEASE', 'Disease'].edge_label_index)\n",
    "    train_loss = criterion(train_pred.squeeze(), train_data['Drug', 'DRUGTREATSDISEASE', 'Disease'].edge_label)\n",
    "    \n",
    "    # Backward pass and optimization\n",
    "    train_loss.backward()\n",
    "    optimizer.step()\n",
    "\n",
    "    # Validation step\n",
    "    model.eval()\n",
    "    with torch.no_grad():\n",
    "        z_dict = model(val_data.x_dict, val_data.edge_index_dict)\n",
    "        val_pred = model.decode(z_dict, val_data['Drug', 'DRUGTREATSDISEASE', 'Disease'].edge_label_index)\n",
    "        val_loss = F.binary_cross_entropy_with_logits(val_pred, val_data['Drug', 'DRUGTREATSDISEASE', 'Disease'].edge_label)\n",
    "    \n",
    "    print(f'Epoch {epoch+1}, Train Loss: {train_loss.item()}, Val Loss: {val_loss.item()}')\n",
    "\n",
    "    # Early stopping check\n",
    "    if val_loss < best_val_loss:\n",
    "        best_val_loss = val_loss\n",
    "        patience_counter = 0\n",
    "        #torch.save(model.state_dict(), os.path.join(path,'GAT_best_model.pth'))  # Save the best model\n",
    "    else:\n",
    "        patience_counter += 1\n",
    "        if patience_counter >= patience:\n",
    "            print(\"Early stopping triggered!\")\n",
    "            break"
   ]
  },
  {
   "cell_type": "code",
   "execution_count": 49,
   "metadata": {},
   "outputs": [
    {
     "name": "stdout",
     "output_type": "stream",
     "text": [
      "Test AUC: 1.0\n"
     ]
    }
   ],
   "source": [
    "from sklearn.metrics import roc_auc_score\n",
    "\n",
    "# Load the best model saved during training\n",
    "#model.load_state_dict(torch.load(os.path.join(path,'GAT_best_model.pth')))\n",
    "\n",
    "# Evaluate on the test set\n",
    "model.eval()\n",
    "with torch.no_grad():\n",
    "    z_dict = model(test_data.x_dict, test_data.edge_index_dict)\n",
    "    test_pred = model.decode(z_dict, test_data['Drug', 'DRUGTREATSDISEASE', 'Disease'].edge_label_index)\n",
    "    \n",
    "    # Calculate AUC and other metrics\n",
    "    auc = roc_auc_score(test_data['Drug', 'DRUGTREATSDISEASE', 'Disease'].edge_label.cpu(), test_pred.cpu())\n",
    "    print(f'Test AUC: {auc}')\n"
   ]
  },
  {
   "cell_type": "markdown",
   "metadata": {},
   "source": [
    "## Relational Graph Convolutional Network (R-GCN)"
   ]
  },
  {
   "cell_type": "markdown",
   "metadata": {},
   "source": [
    "### Load HeteroData"
   ]
  },
  {
   "cell_type": "code",
   "execution_count": null,
   "metadata": {},
   "outputs": [],
   "source": [
    "import os\n",
    "import torch\n",
    "\n",
    "#path =''\n",
    "\n",
    "data = torch.load(os.path.join(path,'hetero_graph.pt'))\n",
    "data"
   ]
  },
  {
   "cell_type": "code",
   "execution_count": 2,
   "metadata": {},
   "outputs": [
    {
     "data": {
      "text/plain": [
       "(['Disease', 'Drug', 'Gene'],\n",
       " [('Drug', 'DRUGTREATSDISEASE', 'Disease'),\n",
       "  ('Gene', 'GENEASSOCIATESWITHDISEASE', 'Disease'),\n",
       "  ('Drug', 'CHEMICALINCREASESEXPRESSION', 'Gene'),\n",
       "  ('Drug', 'CHEMICALDECREASESEXPRESSION', 'Gene'),\n",
       "  ('Drug', 'CHEMICALBINDSGENE', 'Gene'),\n",
       "  ('Disease', 'rev_DRUGTREATSDISEASE', 'Drug'),\n",
       "  ('Disease', 'rev_GENEASSOCIATESWITHDISEASE', 'Gene'),\n",
       "  ('Gene', 'rev_CHEMICALINCREASESEXPRESSION', 'Drug'),\n",
       "  ('Gene', 'rev_CHEMICALDECREASESEXPRESSION', 'Drug'),\n",
       "  ('Gene', 'rev_CHEMICALBINDSGENE', 'Drug')])"
      ]
     },
     "execution_count": 2,
     "metadata": {},
     "output_type": "execute_result"
    }
   ],
   "source": [
    "data.metadata()"
   ]
  },
  {
   "cell_type": "markdown",
   "metadata": {
    "id": "2QGdkLAurBq9"
   },
   "source": [
    "### Edge-level Training Splits"
   ]
  },
  {
   "cell_type": "code",
   "execution_count": 56,
   "metadata": {
    "id": "rwgNwoa26Eja",
    "scrolled": true
   },
   "outputs": [
    {
     "name": "stdout",
     "output_type": "stream",
     "text": [
      "Training data:\n",
      "==============\n",
      "HeteroData(\n",
      "  Disease={\n",
      "    node_id=[34],\n",
      "    x=[34, 4],\n",
      "  },\n",
      "  Drug={\n",
      "    node_id=[16581],\n",
      "    x=[16581, 4],\n",
      "  },\n",
      "  Gene={\n",
      "    node_id=[193279],\n",
      "    x=[193279, 9],\n",
      "  },\n",
      "  (Drug, DRUGTREATSDISEASE, Disease)={\n",
      "    edge_index=[2, 7],\n",
      "    edge_label=[147],\n",
      "    edge_label_index=[2, 147],\n",
      "  },\n",
      "  (Gene, GENEASSOCIATESWITHDISEASE, Disease)={ edge_index=[2, 508] },\n",
      "  (Drug, CHEMICALINCREASESEXPRESSION, Gene)={ edge_index=[2, 18713] },\n",
      "  (Drug, CHEMICALDECREASESEXPRESSION, Gene)={ edge_index=[2, 21051] },\n",
      "  (Drug, CHEMICALBINDSGENE, Gene)={ edge_index=[2, 25726] },\n",
      "  (Disease, rev_DRUGTREATSDISEASE, Drug)={ edge_index=[2, 7] },\n",
      "  (Disease, rev_GENEASSOCIATESWITHDISEASE, Gene)={ edge_index=[2, 508] },\n",
      "  (Gene, rev_CHEMICALINCREASESEXPRESSION, Drug)={ edge_index=[2, 18713] },\n",
      "  (Gene, rev_CHEMICALDECREASESEXPRESSION, Drug)={ edge_index=[2, 21051] },\n",
      "  (Gene, rev_CHEMICALBINDSGENE, Drug)={ edge_index=[2, 25726] }\n",
      ")\n",
      "\n",
      "Validation data:\n",
      "================\n",
      "HeteroData(\n",
      "  Disease={\n",
      "    node_id=[34],\n",
      "    x=[34, 4],\n",
      "  },\n",
      "  Drug={\n",
      "    node_id=[16581],\n",
      "    x=[16581, 4],\n",
      "  },\n",
      "  Gene={\n",
      "    node_id=[193279],\n",
      "    x=[193279, 9],\n",
      "  },\n",
      "  (Drug, DRUGTREATSDISEASE, Disease)={\n",
      "    edge_index=[2, 7],\n",
      "    edge_label=[21],\n",
      "    edge_label_index=[2, 21],\n",
      "  },\n",
      "  (Gene, GENEASSOCIATESWITHDISEASE, Disease)={ edge_index=[2, 508] },\n",
      "  (Drug, CHEMICALINCREASESEXPRESSION, Gene)={ edge_index=[2, 18713] },\n",
      "  (Drug, CHEMICALDECREASESEXPRESSION, Gene)={ edge_index=[2, 21051] },\n",
      "  (Drug, CHEMICALBINDSGENE, Gene)={ edge_index=[2, 25726] },\n",
      "  (Disease, rev_DRUGTREATSDISEASE, Drug)={ edge_index=[2, 7] },\n",
      "  (Disease, rev_GENEASSOCIATESWITHDISEASE, Gene)={ edge_index=[2, 508] },\n",
      "  (Gene, rev_CHEMICALINCREASESEXPRESSION, Drug)={ edge_index=[2, 18713] },\n",
      "  (Gene, rev_CHEMICALDECREASESEXPRESSION, Drug)={ edge_index=[2, 21051] },\n",
      "  (Gene, rev_CHEMICALBINDSGENE, Drug)={ edge_index=[2, 25726] }\n",
      ")\n",
      "Testing data:\n",
      "==============\n",
      "HeteroData(\n",
      "  Disease={\n",
      "    node_id=[34],\n",
      "    x=[34, 4],\n",
      "  },\n",
      "  Drug={\n",
      "    node_id=[16581],\n",
      "    x=[16581, 4],\n",
      "  },\n",
      "  Gene={\n",
      "    node_id=[193279],\n",
      "    x=[193279, 9],\n",
      "  },\n",
      "  (Drug, DRUGTREATSDISEASE, Disease)={\n",
      "    edge_index=[2, 8],\n",
      "    edge_label=[21],\n",
      "    edge_label_index=[2, 21],\n",
      "  },\n",
      "  (Gene, GENEASSOCIATESWITHDISEASE, Disease)={ edge_index=[2, 508] },\n",
      "  (Drug, CHEMICALINCREASESEXPRESSION, Gene)={ edge_index=[2, 18713] },\n",
      "  (Drug, CHEMICALDECREASESEXPRESSION, Gene)={ edge_index=[2, 21051] },\n",
      "  (Drug, CHEMICALBINDSGENE, Gene)={ edge_index=[2, 25726] },\n",
      "  (Disease, rev_DRUGTREATSDISEASE, Drug)={ edge_index=[2, 8] },\n",
      "  (Disease, rev_GENEASSOCIATESWITHDISEASE, Gene)={ edge_index=[2, 508] },\n",
      "  (Gene, rev_CHEMICALINCREASESEXPRESSION, Drug)={ edge_index=[2, 18713] },\n",
      "  (Gene, rev_CHEMICALDECREASESEXPRESSION, Drug)={ edge_index=[2, 21051] },\n",
      "  (Gene, rev_CHEMICALBINDSGENE, Drug)={ edge_index=[2, 25726] }\n",
      ")\n",
      "\n"
     ]
    }
   ],
   "source": [
    "import torch_geometric.transforms as T\n",
    "\n",
    "transform = T.RandomLinkSplit(\n",
    "    num_val=0.2,  \n",
    "    num_test=0.2,  \n",
    "    #disjoint_train_ratio=...,  \n",
    "    neg_sampling_ratio=20,  \n",
    "    #add_negative_train_samples=False,   #default true\n",
    "    edge_types=('Drug', 'DRUGTREATSDISEASE', 'Disease'),\n",
    "    rev_edge_types=(\"Disease\", \"rev_DRUGTREATSDISEASE\", \"Drug\"),\n",
    ")\n",
    "\n",
    "train_data, val_data, test_data = transform(data)\n",
    "print(\"Training data:\")\n",
    "print(\"==============\")\n",
    "print(train_data)\n",
    "print()\n",
    "print(\"Validation data:\")\n",
    "print(\"================\")\n",
    "print(val_data)\n",
    "print(\"Testing data:\")\n",
    "print(\"==============\")\n",
    "print(test_data)\n",
    "print()"
   ]
  },
  {
   "cell_type": "code",
   "execution_count": null,
   "metadata": {},
   "outputs": [],
   "source": [
    "\"\"\"\n",
    "        edge_indices = []\n",
    "        edge_type_indices = []\n",
    "        \n",
    "        for edge_type, edge_index in edge_index_dict.items():\n",
    "            edge_indices.append(edge_index)\n",
    "            edge_type_idx = edge_type_dict[edge_type]\n",
    "            edge_type_indices.append(torch.full((edge_index.size(1),), edge_type_idx, dtype=torch.long))\n",
    "        \n",
    "        # Concatenate all edge indices and type indices\n",
    "        edge_index = torch.cat(edge_indices, dim=1)\n",
    "        edge_type_indices = torch.cat(edge_type_indices, dim=0)\n",
    "\n",
    "        # Pass through RGCN layers\n",
    "        x_dict = self.conv1(x_dict, edge_index, edge_type_indices)\n",
    "        x_dict = F.relu(x_dict)\n",
    "        x_dict = self.conv2(x_dict, edge_index, edge_type_indices)\n",
    "        \"\"\""
   ]
  },
  {
   "cell_type": "code",
   "execution_count": 57,
   "metadata": {},
   "outputs": [],
   "source": [
    "import torch.nn.functional as F\n",
    "from torch_geometric.nn import RGCNConv, HeteroConv, Linear\n",
    "\n",
    "class RGCN(torch.nn.Module):\n",
    "    def __init__(self, num_nodes_dict, num_relations, hidden_channels, out_channels):\n",
    "        super(RGCN, self).__init__()\n",
    "        self.convs = HeteroConv({\n",
    "            ('Drug', 'DRUGTREATSDISEASE', 'Disease'): RGCNConv((1, 1), hidden_channels, num_relations=num_relations),\n",
    "            ('Gene', 'GENEASSOCIATESWITHDISEASE', 'Disease'): RGCNConv((1, 1), hidden_channels, num_relations=num_relations),\n",
    "            ('Drug', 'CHEMICALINCREASESEXPRESSION', 'Gene'): RGCNConv((1, 1), hidden_channels, num_relations=num_relations),\n",
    "            ('Drug', 'CHEMICALDECREASESEXPRESSION', 'Gene'): RGCNConv((1, 1), hidden_channels, num_relations=num_relations),\n",
    "            ('Drug', 'CHEMICALBINDSGENE', 'Gene'): RGCNConv((1, 1), hidden_channels, num_relations=num_relations),\n",
    "            ('Disease', 'rev_DRUGTREATSDISEASE', 'Drug'): RGCNConv((1, 1), hidden_channels, num_relations=num_relations),\n",
    "            ('Disease', 'rev_GENEASSOCIATESWITHDISEASE', 'Gene'): RGCNConv((1, 1), hidden_channels, num_relations=num_relations),\n",
    "            ('Gene', 'rev_CHEMICALINCREASESEXPRESSION', 'Drug'): RGCNConv((1, 1), hidden_channels, num_relations=num_relations),\n",
    "            ('Gene', 'rev_CHEMICALDECREASESEXPRESSION', 'Drug'): RGCNConv((1, 1), hidden_channels, num_relations=num_relations),\n",
    "            ('Gene', 'rev_CHEMICALBINDSGENE', 'Drug'): RGCNConv((1, 1), hidden_channels, num_relations=num_relations),\n",
    "        }, aggr='sum')\n",
    "        #self.conv1 = RGCNConv((1, 1), hidden_channels, num_relations=num_relations)\n",
    "        #self.conv2 = RGCNConv(hidden_channels, hidden_channels, num_relations=num_relations)\n",
    "        self.lin = Linear(hidden_channels * 2, out_channels)\n",
    "        \n",
    "    def forward(self, x_dict, edge_index_dict):\n",
    "        #x_dict = self.conv1(x_dict, edge_index_dict)\n",
    "        #x_dict = {k: F.relu(v) for k, v in x_dict.items()}\n",
    "        #x_dict = self.conv2(x_dict, edge_index_dict)\n",
    "        x_dict = self.convs(x_dict, edge_index_dict)\n",
    "        return x_dict\n",
    "\n",
    "    def decode(self, z_dict, edge_label_index):\n",
    "        src_z, dst_z = z_dict['Drug'][edge_label_index[0]], z_dict['Disease'][edge_label_index[1]]\n",
    "        return self.lin(torch.cat([src_z, dst_z], dim=-1)).squeeze(-1)\n"
   ]
  },
  {
   "cell_type": "code",
   "execution_count": 58,
   "metadata": {},
   "outputs": [
    {
     "data": {
      "text/plain": [
       "[('Drug', 'DRUGTREATSDISEASE', 'Disease'),\n",
       " ('Gene', 'GENEASSOCIATESWITHDISEASE', 'Disease'),\n",
       " ('Drug', 'CHEMICALINCREASESEXPRESSION', 'Gene'),\n",
       " ('Drug', 'CHEMICALDECREASESEXPRESSION', 'Gene'),\n",
       " ('Drug', 'CHEMICALBINDSGENE', 'Gene'),\n",
       " ('Disease', 'rev_DRUGTREATSDISEASE', 'Drug'),\n",
       " ('Disease', 'rev_GENEASSOCIATESWITHDISEASE', 'Gene'),\n",
       " ('Gene', 'rev_CHEMICALINCREASESEXPRESSION', 'Drug'),\n",
       " ('Gene', 'rev_CHEMICALDECREASESEXPRESSION', 'Drug'),\n",
       " ('Gene', 'rev_CHEMICALBINDSGENE', 'Drug')]"
      ]
     },
     "execution_count": 58,
     "metadata": {},
     "output_type": "execute_result"
    }
   ],
   "source": [
    "data.edge_types"
   ]
  },
  {
   "cell_type": "code",
   "execution_count": 59,
   "metadata": {},
   "outputs": [
    {
     "data": {
      "text/plain": [
       "{('Drug',\n",
       "  'DRUGTREATSDISEASE',\n",
       "  'Disease'): tensor([[ 4255,  6564,  7842,  8196, 10310, 13241, 13670, 13719, 14129],\n",
       "         [   24,    24,    24,    24,    24,    24,    24,    24,    24]]),\n",
       " ('Gene',\n",
       "  'GENEASSOCIATESWITHDISEASE',\n",
       "  'Disease'): tensor([[149728, 166552, 166552,  ..., 192128, 192190, 183707],\n",
       "         [     1,      3,      4,  ...,     27,     27,     29]]),\n",
       " ('Drug',\n",
       "  'CHEMICALINCREASESEXPRESSION',\n",
       "  'Gene'): tensor([[  5435,   6027,   6094,  ...,  15950,  15954,  15957],\n",
       "         [149507, 149508, 149508,  ..., 193277, 193277, 193277]]),\n",
       " ('Drug',\n",
       "  'CHEMICALDECREASESEXPRESSION',\n",
       "  'Gene'): tensor([[ 16022,  11878,  10312,  ...,   7661,  12376,  12797],\n",
       "         [149507, 149512, 149517,  ..., 193268, 193268, 193268]]),\n",
       " ('Drug',\n",
       "  'CHEMICALBINDSGENE',\n",
       "  'Gene'): tensor([[  3905,   4551,   6020,  ...,  11580,  15568,   3749],\n",
       "         [  3448,   3448,   3448,  ..., 192384, 192385, 193277]]),\n",
       " ('Disease',\n",
       "  'rev_DRUGTREATSDISEASE',\n",
       "  'Drug'): tensor([[ 4255,  6564,  7842,  8196, 10310, 13241, 13670, 13719, 14129],\n",
       "         [   24,    24,    24,    24,    24,    24,    24,    24,    24]]),\n",
       " ('Disease',\n",
       "  'rev_GENEASSOCIATESWITHDISEASE',\n",
       "  'Gene'): tensor([[149728, 166552, 166552,  ..., 192128, 192190, 183707],\n",
       "         [     1,      3,      4,  ...,     27,     27,     29]]),\n",
       " ('Gene',\n",
       "  'rev_CHEMICALINCREASESEXPRESSION',\n",
       "  'Drug'): tensor([[  5435,   6027,   6094,  ...,  15950,  15954,  15957],\n",
       "         [149507, 149508, 149508,  ..., 193277, 193277, 193277]]),\n",
       " ('Gene',\n",
       "  'rev_CHEMICALDECREASESEXPRESSION',\n",
       "  'Drug'): tensor([[ 16022,  11878,  10312,  ...,   7661,  12376,  12797],\n",
       "         [149507, 149512, 149517,  ..., 193268, 193268, 193268]]),\n",
       " ('Gene',\n",
       "  'rev_CHEMICALBINDSGENE',\n",
       "  'Drug'): tensor([[  3905,   4551,   6020,  ...,  11580,  15568,   3749],\n",
       "         [  3448,   3448,   3448,  ..., 192384, 192385, 193277]])}"
      ]
     },
     "execution_count": 59,
     "metadata": {},
     "output_type": "execute_result"
    }
   ],
   "source": [
    "edge_type_dict = {\n",
    "    ('Drug', 'DRUGTREATSDISEASE', 'Disease'): edge_index_DRUGTREATSDISEASE,\n",
    "    ('Gene', 'GENEASSOCIATESWITHDISEASE', 'Disease'): edge_index_GENEASSOCIATESWITHDISEASE,\n",
    "    ('Drug', 'CHEMICALINCREASESEXPRESSION', 'Gene'): edge_index_CHEMICALINCREASESEXPRESSION,\n",
    "    ('Drug', 'CHEMICALDECREASESEXPRESSION', 'Gene'): edge_index_CHEMICALDECREASESEXPRESSION,\n",
    "    ('Drug', 'CHEMICALBINDSGENE', 'Gene'): edge_index_CHEMICALBINDSGENE,\n",
    "    ('Disease', 'rev_DRUGTREATSDISEASE', 'Drug'): edge_index_DRUGTREATSDISEASE,\n",
    "    ('Disease', 'rev_GENEASSOCIATESWITHDISEASE', 'Gene'): edge_index_GENEASSOCIATESWITHDISEASE,\n",
    "    ('Gene', 'rev_CHEMICALINCREASESEXPRESSION', 'Drug'): edge_index_CHEMICALINCREASESEXPRESSION,\n",
    "    ('Gene', 'rev_CHEMICALDECREASESEXPRESSION', 'Drug'): edge_index_CHEMICALDECREASESEXPRESSION,\n",
    "    ('Gene', 'rev_CHEMICALBINDSGENE', 'Drug'): edge_index_CHEMICALBINDSGENE\n",
    "}\n",
    "edge_type_dict"
   ]
  },
  {
   "cell_type": "code",
   "execution_count": 60,
   "metadata": {},
   "outputs": [
    {
     "ename": "AssertionError",
     "evalue": "",
     "output_type": "error",
     "traceback": [
      "\u001b[0;31m---------------------------------------------------------------------------\u001b[0m",
      "\u001b[0;31mAssertionError\u001b[0m                            Traceback (most recent call last)",
      "\u001b[0;32m/var/folders/sg/983t9lp12bsfyjv9ylh6002m0000gt/T/ipykernel_27388/2578486204.py\u001b[0m in \u001b[0;36m<module>\u001b[0;34m\u001b[0m\n\u001b[1;32m     13\u001b[0m \u001b[0;34m\u001b[0m\u001b[0m\n\u001b[1;32m     14\u001b[0m     \u001b[0;31m# Forward pass\u001b[0m\u001b[0;34m\u001b[0m\u001b[0;34m\u001b[0m\u001b[0m\n\u001b[0;32m---> 15\u001b[0;31m     \u001b[0mz_dict\u001b[0m \u001b[0;34m=\u001b[0m \u001b[0mmodel\u001b[0m\u001b[0;34m(\u001b[0m\u001b[0mtrain_data\u001b[0m\u001b[0;34m.\u001b[0m\u001b[0mx_dict\u001b[0m\u001b[0;34m,\u001b[0m \u001b[0mtrain_data\u001b[0m\u001b[0;34m.\u001b[0m\u001b[0medge_index_dict\u001b[0m\u001b[0;34m)\u001b[0m \u001b[0;31m#(train_data.edge_index_dict, train_data.edge_types)\u001b[0m\u001b[0;34m\u001b[0m\u001b[0;34m\u001b[0m\u001b[0m\n\u001b[0m\u001b[1;32m     16\u001b[0m     \u001b[0mtrain_pred\u001b[0m \u001b[0;34m=\u001b[0m \u001b[0mmodel\u001b[0m\u001b[0;34m.\u001b[0m\u001b[0mdecode\u001b[0m\u001b[0;34m(\u001b[0m\u001b[0mz_dict\u001b[0m\u001b[0;34m,\u001b[0m \u001b[0mtrain_data\u001b[0m\u001b[0;34m[\u001b[0m\u001b[0;34m'Drug'\u001b[0m\u001b[0;34m,\u001b[0m \u001b[0;34m'DRUGTREATSDISEASE'\u001b[0m\u001b[0;34m,\u001b[0m \u001b[0;34m'Disease'\u001b[0m\u001b[0;34m]\u001b[0m\u001b[0;34m.\u001b[0m\u001b[0medge_label_index\u001b[0m\u001b[0;34m)\u001b[0m\u001b[0;34m\u001b[0m\u001b[0;34m\u001b[0m\u001b[0m\n\u001b[1;32m     17\u001b[0m     \u001b[0mtrain_loss\u001b[0m \u001b[0;34m=\u001b[0m \u001b[0mF\u001b[0m\u001b[0;34m.\u001b[0m\u001b[0mbinary_cross_entropy_with_logits\u001b[0m\u001b[0;34m(\u001b[0m\u001b[0mtrain_pred\u001b[0m\u001b[0;34m,\u001b[0m \u001b[0mtrain_data\u001b[0m\u001b[0;34m[\u001b[0m\u001b[0;34m'Drug'\u001b[0m\u001b[0;34m,\u001b[0m \u001b[0;34m'DRUGTREATSDISEASE'\u001b[0m\u001b[0;34m,\u001b[0m \u001b[0;34m'Disease'\u001b[0m\u001b[0;34m]\u001b[0m\u001b[0;34m.\u001b[0m\u001b[0medge_label\u001b[0m\u001b[0;34m.\u001b[0m\u001b[0mfloat\u001b[0m\u001b[0;34m(\u001b[0m\u001b[0;34m)\u001b[0m\u001b[0;34m)\u001b[0m\u001b[0;34m\u001b[0m\u001b[0;34m\u001b[0m\u001b[0m\n",
      "\u001b[0;32m/opt/anaconda3/lib/python3.9/site-packages/torch/nn/modules/module.py\u001b[0m in \u001b[0;36m_wrapped_call_impl\u001b[0;34m(self, *args, **kwargs)\u001b[0m\n\u001b[1;32m   1734\u001b[0m             \u001b[0;32mreturn\u001b[0m \u001b[0mself\u001b[0m\u001b[0;34m.\u001b[0m\u001b[0m_compiled_call_impl\u001b[0m\u001b[0;34m(\u001b[0m\u001b[0;34m*\u001b[0m\u001b[0margs\u001b[0m\u001b[0;34m,\u001b[0m \u001b[0;34m**\u001b[0m\u001b[0mkwargs\u001b[0m\u001b[0;34m)\u001b[0m  \u001b[0;31m# type: ignore[misc]\u001b[0m\u001b[0;34m\u001b[0m\u001b[0;34m\u001b[0m\u001b[0m\n\u001b[1;32m   1735\u001b[0m         \u001b[0;32melse\u001b[0m\u001b[0;34m:\u001b[0m\u001b[0;34m\u001b[0m\u001b[0;34m\u001b[0m\u001b[0m\n\u001b[0;32m-> 1736\u001b[0;31m             \u001b[0;32mreturn\u001b[0m \u001b[0mself\u001b[0m\u001b[0;34m.\u001b[0m\u001b[0m_call_impl\u001b[0m\u001b[0;34m(\u001b[0m\u001b[0;34m*\u001b[0m\u001b[0margs\u001b[0m\u001b[0;34m,\u001b[0m \u001b[0;34m**\u001b[0m\u001b[0mkwargs\u001b[0m\u001b[0;34m)\u001b[0m\u001b[0;34m\u001b[0m\u001b[0;34m\u001b[0m\u001b[0m\n\u001b[0m\u001b[1;32m   1737\u001b[0m \u001b[0;34m\u001b[0m\u001b[0m\n\u001b[1;32m   1738\u001b[0m     \u001b[0;31m# torchrec tests the code consistency with the following code\u001b[0m\u001b[0;34m\u001b[0m\u001b[0;34m\u001b[0m\u001b[0m\n",
      "\u001b[0;32m/opt/anaconda3/lib/python3.9/site-packages/torch/nn/modules/module.py\u001b[0m in \u001b[0;36m_call_impl\u001b[0;34m(self, *args, **kwargs)\u001b[0m\n\u001b[1;32m   1745\u001b[0m                 \u001b[0;32mor\u001b[0m \u001b[0m_global_backward_pre_hooks\u001b[0m \u001b[0;32mor\u001b[0m \u001b[0m_global_backward_hooks\u001b[0m\u001b[0;34m\u001b[0m\u001b[0;34m\u001b[0m\u001b[0m\n\u001b[1;32m   1746\u001b[0m                 or _global_forward_hooks or _global_forward_pre_hooks):\n\u001b[0;32m-> 1747\u001b[0;31m             \u001b[0;32mreturn\u001b[0m \u001b[0mforward_call\u001b[0m\u001b[0;34m(\u001b[0m\u001b[0;34m*\u001b[0m\u001b[0margs\u001b[0m\u001b[0;34m,\u001b[0m \u001b[0;34m**\u001b[0m\u001b[0mkwargs\u001b[0m\u001b[0;34m)\u001b[0m\u001b[0;34m\u001b[0m\u001b[0;34m\u001b[0m\u001b[0m\n\u001b[0m\u001b[1;32m   1748\u001b[0m \u001b[0;34m\u001b[0m\u001b[0m\n\u001b[1;32m   1749\u001b[0m         \u001b[0mresult\u001b[0m \u001b[0;34m=\u001b[0m \u001b[0;32mNone\u001b[0m\u001b[0;34m\u001b[0m\u001b[0;34m\u001b[0m\u001b[0m\n",
      "\u001b[0;32m/var/folders/sg/983t9lp12bsfyjv9ylh6002m0000gt/T/ipykernel_27388/711682197.py\u001b[0m in \u001b[0;36mforward\u001b[0;34m(self, x_dict, edge_index_dict)\u001b[0m\n\u001b[1;32m     25\u001b[0m         \u001b[0;31m#x_dict = {k: F.relu(v) for k, v in x_dict.items()}\u001b[0m\u001b[0;34m\u001b[0m\u001b[0;34m\u001b[0m\u001b[0m\n\u001b[1;32m     26\u001b[0m         \u001b[0;31m#x_dict = self.conv2(x_dict, edge_index_dict)\u001b[0m\u001b[0;34m\u001b[0m\u001b[0;34m\u001b[0m\u001b[0m\n\u001b[0;32m---> 27\u001b[0;31m         \u001b[0mx_dict\u001b[0m \u001b[0;34m=\u001b[0m \u001b[0mself\u001b[0m\u001b[0;34m.\u001b[0m\u001b[0mconvs\u001b[0m\u001b[0;34m(\u001b[0m\u001b[0mx_dict\u001b[0m\u001b[0;34m,\u001b[0m \u001b[0medge_index_dict\u001b[0m\u001b[0;34m)\u001b[0m\u001b[0;34m\u001b[0m\u001b[0;34m\u001b[0m\u001b[0m\n\u001b[0m\u001b[1;32m     28\u001b[0m         \u001b[0;32mreturn\u001b[0m \u001b[0mx_dict\u001b[0m\u001b[0;34m\u001b[0m\u001b[0;34m\u001b[0m\u001b[0m\n\u001b[1;32m     29\u001b[0m \u001b[0;34m\u001b[0m\u001b[0m\n",
      "\u001b[0;32m/opt/anaconda3/lib/python3.9/site-packages/torch/nn/modules/module.py\u001b[0m in \u001b[0;36m_wrapped_call_impl\u001b[0;34m(self, *args, **kwargs)\u001b[0m\n\u001b[1;32m   1734\u001b[0m             \u001b[0;32mreturn\u001b[0m \u001b[0mself\u001b[0m\u001b[0;34m.\u001b[0m\u001b[0m_compiled_call_impl\u001b[0m\u001b[0;34m(\u001b[0m\u001b[0;34m*\u001b[0m\u001b[0margs\u001b[0m\u001b[0;34m,\u001b[0m \u001b[0;34m**\u001b[0m\u001b[0mkwargs\u001b[0m\u001b[0;34m)\u001b[0m  \u001b[0;31m# type: ignore[misc]\u001b[0m\u001b[0;34m\u001b[0m\u001b[0;34m\u001b[0m\u001b[0m\n\u001b[1;32m   1735\u001b[0m         \u001b[0;32melse\u001b[0m\u001b[0;34m:\u001b[0m\u001b[0;34m\u001b[0m\u001b[0;34m\u001b[0m\u001b[0m\n\u001b[0;32m-> 1736\u001b[0;31m             \u001b[0;32mreturn\u001b[0m \u001b[0mself\u001b[0m\u001b[0;34m.\u001b[0m\u001b[0m_call_impl\u001b[0m\u001b[0;34m(\u001b[0m\u001b[0;34m*\u001b[0m\u001b[0margs\u001b[0m\u001b[0;34m,\u001b[0m \u001b[0;34m**\u001b[0m\u001b[0mkwargs\u001b[0m\u001b[0;34m)\u001b[0m\u001b[0;34m\u001b[0m\u001b[0;34m\u001b[0m\u001b[0m\n\u001b[0m\u001b[1;32m   1737\u001b[0m \u001b[0;34m\u001b[0m\u001b[0m\n\u001b[1;32m   1738\u001b[0m     \u001b[0;31m# torchrec tests the code consistency with the following code\u001b[0m\u001b[0;34m\u001b[0m\u001b[0;34m\u001b[0m\u001b[0m\n",
      "\u001b[0;32m/opt/anaconda3/lib/python3.9/site-packages/torch/nn/modules/module.py\u001b[0m in \u001b[0;36m_call_impl\u001b[0;34m(self, *args, **kwargs)\u001b[0m\n\u001b[1;32m   1745\u001b[0m                 \u001b[0;32mor\u001b[0m \u001b[0m_global_backward_pre_hooks\u001b[0m \u001b[0;32mor\u001b[0m \u001b[0m_global_backward_hooks\u001b[0m\u001b[0;34m\u001b[0m\u001b[0;34m\u001b[0m\u001b[0m\n\u001b[1;32m   1746\u001b[0m                 or _global_forward_hooks or _global_forward_pre_hooks):\n\u001b[0;32m-> 1747\u001b[0;31m             \u001b[0;32mreturn\u001b[0m \u001b[0mforward_call\u001b[0m\u001b[0;34m(\u001b[0m\u001b[0;34m*\u001b[0m\u001b[0margs\u001b[0m\u001b[0;34m,\u001b[0m \u001b[0;34m**\u001b[0m\u001b[0mkwargs\u001b[0m\u001b[0;34m)\u001b[0m\u001b[0;34m\u001b[0m\u001b[0;34m\u001b[0m\u001b[0m\n\u001b[0m\u001b[1;32m   1748\u001b[0m \u001b[0;34m\u001b[0m\u001b[0m\n\u001b[1;32m   1749\u001b[0m         \u001b[0mresult\u001b[0m \u001b[0;34m=\u001b[0m \u001b[0;32mNone\u001b[0m\u001b[0;34m\u001b[0m\u001b[0;34m\u001b[0m\u001b[0m\n",
      "\u001b[0;32m/opt/anaconda3/lib/python3.9/site-packages/torch_geometric/nn/conv/hetero_conv.py\u001b[0m in \u001b[0;36mforward\u001b[0;34m(self, *args_dict, **kwargs_dict)\u001b[0m\n\u001b[1;32m    156\u001b[0m                 \u001b[0;32mcontinue\u001b[0m\u001b[0;34m\u001b[0m\u001b[0;34m\u001b[0m\u001b[0m\n\u001b[1;32m    157\u001b[0m \u001b[0;34m\u001b[0m\u001b[0m\n\u001b[0;32m--> 158\u001b[0;31m             \u001b[0mout\u001b[0m \u001b[0;34m=\u001b[0m \u001b[0mconv\u001b[0m\u001b[0;34m(\u001b[0m\u001b[0;34m*\u001b[0m\u001b[0margs\u001b[0m\u001b[0;34m,\u001b[0m \u001b[0;34m**\u001b[0m\u001b[0mkwargs\u001b[0m\u001b[0;34m)\u001b[0m\u001b[0;34m\u001b[0m\u001b[0;34m\u001b[0m\u001b[0m\n\u001b[0m\u001b[1;32m    159\u001b[0m \u001b[0;34m\u001b[0m\u001b[0m\n\u001b[1;32m    160\u001b[0m             \u001b[0;32mif\u001b[0m \u001b[0mdst\u001b[0m \u001b[0;32mnot\u001b[0m \u001b[0;32min\u001b[0m \u001b[0mout_dict\u001b[0m\u001b[0;34m:\u001b[0m\u001b[0;34m\u001b[0m\u001b[0;34m\u001b[0m\u001b[0m\n",
      "\u001b[0;32m/opt/anaconda3/lib/python3.9/site-packages/torch/nn/modules/module.py\u001b[0m in \u001b[0;36m_wrapped_call_impl\u001b[0;34m(self, *args, **kwargs)\u001b[0m\n\u001b[1;32m   1734\u001b[0m             \u001b[0;32mreturn\u001b[0m \u001b[0mself\u001b[0m\u001b[0;34m.\u001b[0m\u001b[0m_compiled_call_impl\u001b[0m\u001b[0;34m(\u001b[0m\u001b[0;34m*\u001b[0m\u001b[0margs\u001b[0m\u001b[0;34m,\u001b[0m \u001b[0;34m**\u001b[0m\u001b[0mkwargs\u001b[0m\u001b[0;34m)\u001b[0m  \u001b[0;31m# type: ignore[misc]\u001b[0m\u001b[0;34m\u001b[0m\u001b[0;34m\u001b[0m\u001b[0m\n\u001b[1;32m   1735\u001b[0m         \u001b[0;32melse\u001b[0m\u001b[0;34m:\u001b[0m\u001b[0;34m\u001b[0m\u001b[0;34m\u001b[0m\u001b[0m\n\u001b[0;32m-> 1736\u001b[0;31m             \u001b[0;32mreturn\u001b[0m \u001b[0mself\u001b[0m\u001b[0;34m.\u001b[0m\u001b[0m_call_impl\u001b[0m\u001b[0;34m(\u001b[0m\u001b[0;34m*\u001b[0m\u001b[0margs\u001b[0m\u001b[0;34m,\u001b[0m \u001b[0;34m**\u001b[0m\u001b[0mkwargs\u001b[0m\u001b[0;34m)\u001b[0m\u001b[0;34m\u001b[0m\u001b[0;34m\u001b[0m\u001b[0m\n\u001b[0m\u001b[1;32m   1737\u001b[0m \u001b[0;34m\u001b[0m\u001b[0m\n\u001b[1;32m   1738\u001b[0m     \u001b[0;31m# torchrec tests the code consistency with the following code\u001b[0m\u001b[0;34m\u001b[0m\u001b[0;34m\u001b[0m\u001b[0m\n",
      "\u001b[0;32m/opt/anaconda3/lib/python3.9/site-packages/torch/nn/modules/module.py\u001b[0m in \u001b[0;36m_call_impl\u001b[0;34m(self, *args, **kwargs)\u001b[0m\n\u001b[1;32m   1745\u001b[0m                 \u001b[0;32mor\u001b[0m \u001b[0m_global_backward_pre_hooks\u001b[0m \u001b[0;32mor\u001b[0m \u001b[0m_global_backward_hooks\u001b[0m\u001b[0;34m\u001b[0m\u001b[0;34m\u001b[0m\u001b[0m\n\u001b[1;32m   1746\u001b[0m                 or _global_forward_hooks or _global_forward_pre_hooks):\n\u001b[0;32m-> 1747\u001b[0;31m             \u001b[0;32mreturn\u001b[0m \u001b[0mforward_call\u001b[0m\u001b[0;34m(\u001b[0m\u001b[0;34m*\u001b[0m\u001b[0margs\u001b[0m\u001b[0;34m,\u001b[0m \u001b[0;34m**\u001b[0m\u001b[0mkwargs\u001b[0m\u001b[0;34m)\u001b[0m\u001b[0;34m\u001b[0m\u001b[0;34m\u001b[0m\u001b[0m\n\u001b[0m\u001b[1;32m   1748\u001b[0m \u001b[0;34m\u001b[0m\u001b[0m\n\u001b[1;32m   1749\u001b[0m         \u001b[0mresult\u001b[0m \u001b[0;34m=\u001b[0m \u001b[0;32mNone\u001b[0m\u001b[0;34m\u001b[0m\u001b[0;34m\u001b[0m\u001b[0m\n",
      "\u001b[0;32m/opt/anaconda3/lib/python3.9/site-packages/torch_geometric/nn/conv/rgcn_conv.py\u001b[0m in \u001b[0;36mforward\u001b[0;34m(self, x, edge_index, edge_type)\u001b[0m\n\u001b[1;32m    196\u001b[0m         \u001b[0;32mif\u001b[0m \u001b[0misinstance\u001b[0m\u001b[0;34m(\u001b[0m\u001b[0medge_index\u001b[0m\u001b[0;34m,\u001b[0m \u001b[0mSparseTensor\u001b[0m\u001b[0;34m)\u001b[0m\u001b[0;34m:\u001b[0m\u001b[0;34m\u001b[0m\u001b[0;34m\u001b[0m\u001b[0m\n\u001b[1;32m    197\u001b[0m             \u001b[0medge_type\u001b[0m \u001b[0;34m=\u001b[0m \u001b[0medge_index\u001b[0m\u001b[0;34m.\u001b[0m\u001b[0mstorage\u001b[0m\u001b[0;34m.\u001b[0m\u001b[0mvalue\u001b[0m\u001b[0;34m(\u001b[0m\u001b[0;34m)\u001b[0m\u001b[0;34m\u001b[0m\u001b[0;34m\u001b[0m\u001b[0m\n\u001b[0;32m--> 198\u001b[0;31m         \u001b[0;32massert\u001b[0m \u001b[0medge_type\u001b[0m \u001b[0;32mis\u001b[0m \u001b[0;32mnot\u001b[0m \u001b[0;32mNone\u001b[0m\u001b[0;34m\u001b[0m\u001b[0;34m\u001b[0m\u001b[0m\n\u001b[0m\u001b[1;32m    199\u001b[0m \u001b[0;34m\u001b[0m\u001b[0m\n\u001b[1;32m    200\u001b[0m         \u001b[0;31m# propagate_type: (x: Tensor, edge_type_ptr: OptTensor)\u001b[0m\u001b[0;34m\u001b[0m\u001b[0;34m\u001b[0m\u001b[0m\n",
      "\u001b[0;31mAssertionError\u001b[0m: "
     ]
    }
   ],
   "source": [
    "from torch.optim import Adam\n",
    "\n",
    "model = RGCN(num_nodes_dict=data.num_nodes_dict, \n",
    "             num_relations=len(data.edge_types), \n",
    "             hidden_channels=64, \n",
    "             out_channels=1)\n",
    "\n",
    "optimizer = Adam(model.parameters(), lr=0.01)\n",
    "\n",
    "for epoch in range(100):\n",
    "    model.train()\n",
    "    optimizer.zero_grad()\n",
    "    \n",
    "    # Forward pass\n",
    "    z_dict = model(train_data.x_dict, train_data.edge_index_dict) #(train_data.edge_index_dict, train_data.edge_types)\n",
    "    train_pred = model.decode(z_dict, train_data['Drug', 'DRUGTREATSDISEASE', 'Disease'].edge_label_index)\n",
    "    train_loss = F.binary_cross_entropy_with_logits(train_pred, train_data['Drug', 'DRUGTREATSDISEASE', 'Disease'].edge_label.float())\n",
    "    \n",
    "    train_loss.backward()\n",
    "    optimizer.step()\n",
    "    \n",
    "    # Validation step\n",
    "    model.eval()\n",
    "    with torch.no_grad():\n",
    "        z_dict = model(val_data.x_dict, val_data.edge_index_dict)\n",
    "        val_pred = model.decode(z_dict, val_data['Drug', 'DRUGTREATSDISEASE', 'Disease'].edge_label_index)\n",
    "        val_loss = F.binary_cross_entropy_with_logits(val_pred, val_data['Drug', 'DRUGTREATSDISEASE', 'Disease'].edge_label)\n",
    "    \n",
    "    print(f'Epoch {epoch+1}, Train Loss: {train_loss.item()}, Val Loss: {val_loss.item()}')\n",
    "\n",
    "    # Early stopping check\n",
    "    if val_loss < best_val_loss:\n",
    "        best_val_loss = val_loss\n",
    "        patience_counter = 0\n",
    "        #torch.save(model.state_dict(), os.path.join(path,'GAT_best_model.pth'))  # Save the best model\n",
    "    else:\n",
    "        patience_counter += 1\n",
    "        if patience_counter >= patience:\n",
    "            print(\"Early stopping triggered!\")\n",
    "            break"
   ]
  }
 ],
 "metadata": {
  "colab": {
   "provenance": []
  },
  "kernelspec": {
   "display_name": "gnn_playground",
   "language": "python",
   "name": "python3"
  },
  "language_info": {
   "codemirror_mode": {
    "name": "ipython",
    "version": 3
   },
   "file_extension": ".py",
   "mimetype": "text/x-python",
   "name": "python",
   "nbconvert_exporter": "python",
   "pygments_lexer": "ipython3",
   "version": "3.12.9"
  }
 },
 "nbformat": 4,
 "nbformat_minor": 1
}
